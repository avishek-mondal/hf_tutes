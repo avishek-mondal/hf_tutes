{
 "cells": [
  {
   "cell_type": "code",
   "execution_count": 2,
   "metadata": {},
   "outputs": [],
   "source": [
    "%load_ext autoreload\n",
    "%autoreload 2"
   ]
  },
  {
   "cell_type": "code",
   "execution_count": 3,
   "metadata": {},
   "outputs": [],
   "source": [
    "import pandas as pd\n",
    "import numpy as np\n",
    "from pathlib import Path\n",
    "\n",
    "# contains the dera data from https://www.sec.gov/dera/data/financial-statement-data-sets\n",
    "data_dir = Path(\"../data/2023q1\")\n",
    "num_df = pd.read_csv(data_dir / \"num.txt\", sep=\"\\t\")\n",
    "sub_df = pd.read_csv(data_dir / \"sub.txt\", sep=\"\\t\")\n",
    "pre_df = pd.read_csv(data_dir / \"pre.txt\", sep=\"\\t\")\n",
    "tag_df = pd.read_csv(data_dir / \"tag.txt\", sep=\"\\t\")"
   ]
  },
  {
   "cell_type": "code",
   "execution_count": 3,
   "metadata": {},
   "outputs": [
    {
     "data": {
      "text/html": [
       "<div>\n",
       "<style scoped>\n",
       "    .dataframe tbody tr th:only-of-type {\n",
       "        vertical-align: middle;\n",
       "    }\n",
       "\n",
       "    .dataframe tbody tr th {\n",
       "        vertical-align: top;\n",
       "    }\n",
       "\n",
       "    .dataframe thead th {\n",
       "        text-align: right;\n",
       "    }\n",
       "</style>\n",
       "<table border=\"1\" class=\"dataframe\">\n",
       "  <thead>\n",
       "    <tr style=\"text-align: right;\">\n",
       "      <th></th>\n",
       "      <th>tag</th>\n",
       "      <th>version</th>\n",
       "      <th>custom</th>\n",
       "      <th>abstract</th>\n",
       "      <th>datatype</th>\n",
       "      <th>iord</th>\n",
       "      <th>crdr</th>\n",
       "      <th>tlabel</th>\n",
       "      <th>doc</th>\n",
       "    </tr>\n",
       "  </thead>\n",
       "  <tbody>\n",
       "    <tr>\n",
       "      <th>0</th>\n",
       "      <td>AccountingStandardsUpdate201613Member</td>\n",
       "      <td>us-gaap/2021</td>\n",
       "      <td>0</td>\n",
       "      <td>1</td>\n",
       "      <td>member</td>\n",
       "      <td>NaN</td>\n",
       "      <td>NaN</td>\n",
       "      <td>Accounting Standards Update 2016-13 [Member]</td>\n",
       "      <td>Accounting Standards Update 2016-13 Financial ...</td>\n",
       "    </tr>\n",
       "    <tr>\n",
       "      <th>1</th>\n",
       "      <td>AccountingStandardsUpdate201409Member</td>\n",
       "      <td>us-gaap/2021</td>\n",
       "      <td>0</td>\n",
       "      <td>1</td>\n",
       "      <td>member</td>\n",
       "      <td>NaN</td>\n",
       "      <td>NaN</td>\n",
       "      <td>Accounting Standards Update 2014-09 [Member]</td>\n",
       "      <td>Accounting Standards Update 2014-09 Revenue fr...</td>\n",
       "    </tr>\n",
       "    <tr>\n",
       "      <th>2</th>\n",
       "      <td>StatementTable</td>\n",
       "      <td>us-gaap/2021</td>\n",
       "      <td>0</td>\n",
       "      <td>1</td>\n",
       "      <td>NaN</td>\n",
       "      <td>NaN</td>\n",
       "      <td>NaN</td>\n",
       "      <td>Statement [Table]</td>\n",
       "      <td>Schedule reflecting a Statement of Income, Sta...</td>\n",
       "    </tr>\n",
       "    <tr>\n",
       "      <th>3</th>\n",
       "      <td>SecurityExchangeName</td>\n",
       "      <td>dei/2021</td>\n",
       "      <td>0</td>\n",
       "      <td>0</td>\n",
       "      <td>edgarExchangeCode</td>\n",
       "      <td>D</td>\n",
       "      <td>NaN</td>\n",
       "      <td>Security Exchange Name</td>\n",
       "      <td>Name of the Exchange on which a security is re...</td>\n",
       "    </tr>\n",
       "    <tr>\n",
       "      <th>4</th>\n",
       "      <td>LocalPhoneNumber</td>\n",
       "      <td>dei/2021</td>\n",
       "      <td>0</td>\n",
       "      <td>0</td>\n",
       "      <td>normalizedString</td>\n",
       "      <td>D</td>\n",
       "      <td>NaN</td>\n",
       "      <td>Local Phone Number</td>\n",
       "      <td>Local phone number for entity.</td>\n",
       "    </tr>\n",
       "  </tbody>\n",
       "</table>\n",
       "</div>"
      ],
      "text/plain": [
       "                                     tag       version  custom  abstract  \\\n",
       "0  AccountingStandardsUpdate201613Member  us-gaap/2021       0         1   \n",
       "1  AccountingStandardsUpdate201409Member  us-gaap/2021       0         1   \n",
       "2                         StatementTable  us-gaap/2021       0         1   \n",
       "3                   SecurityExchangeName      dei/2021       0         0   \n",
       "4                       LocalPhoneNumber      dei/2021       0         0   \n",
       "\n",
       "            datatype iord crdr                                        tlabel  \\\n",
       "0             member  NaN  NaN  Accounting Standards Update 2016-13 [Member]   \n",
       "1             member  NaN  NaN  Accounting Standards Update 2014-09 [Member]   \n",
       "2                NaN  NaN  NaN                             Statement [Table]   \n",
       "3  edgarExchangeCode    D  NaN                        Security Exchange Name   \n",
       "4   normalizedString    D  NaN                            Local Phone Number   \n",
       "\n",
       "                                                 doc  \n",
       "0  Accounting Standards Update 2016-13 Financial ...  \n",
       "1  Accounting Standards Update 2014-09 Revenue fr...  \n",
       "2  Schedule reflecting a Statement of Income, Sta...  \n",
       "3  Name of the Exchange on which a security is re...  \n",
       "4                     Local phone number for entity.  "
      ]
     },
     "execution_count": 3,
     "metadata": {},
     "output_type": "execute_result"
    }
   ],
   "source": [
    "tag_df.head(5)"
   ]
  },
  {
   "cell_type": "code",
   "execution_count": 5,
   "metadata": {},
   "outputs": [
    {
     "name": "stdout",
     "output_type": "stream",
     "text": [
      "(3293693, 9)\n"
     ]
    },
    {
     "data": {
      "text/plain": [
       "Index(['adsh', 'tag', 'version', 'coreg', 'ddate', 'qtrs', 'uom', 'value',\n",
       "       'footnote'],\n",
       "      dtype='object')"
      ]
     },
     "execution_count": 5,
     "metadata": {},
     "output_type": "execute_result"
    }
   ],
   "source": [
    "print(num_df.shape)\n",
    "num_df.columns"
   ]
  },
  {
   "cell_type": "code",
   "execution_count": 24,
   "metadata": {},
   "outputs": [
    {
     "data": {
      "text/plain": [
       "Index(['adsh', 'cik', 'name', 'sic', 'countryba', 'stprba', 'cityba', 'zipba',\n",
       "       'bas1', 'bas2', 'baph', 'countryma', 'stprma', 'cityma', 'zipma',\n",
       "       'mas1', 'mas2', 'countryinc', 'stprinc', 'ein', 'former', 'changed',\n",
       "       'afs', 'wksi', 'fye', 'form', 'period', 'fy', 'fp', 'filed', 'accepted',\n",
       "       'prevrpt', 'detail', 'instance', 'nciks', 'aciks'],\n",
       "      dtype='object')"
      ]
     },
     "execution_count": 24,
     "metadata": {},
     "output_type": "execute_result"
    }
   ],
   "source": [
    "sub_df.columns"
   ]
  },
  {
   "cell_type": "code",
   "execution_count": 25,
   "metadata": {},
   "outputs": [
    {
     "data": {
      "text/plain": [
       "Index(['adsh', 'report', 'line', 'stmt', 'inpth', 'rfile', 'tag', 'version',\n",
       "       'plabel', 'negating'],\n",
       "      dtype='object')"
      ]
     },
     "execution_count": 25,
     "metadata": {},
     "output_type": "execute_result"
    }
   ],
   "source": [
    "pre_df.columns"
   ]
  },
  {
   "cell_type": "code",
   "execution_count": 26,
   "metadata": {},
   "outputs": [
    {
     "data": {
      "text/plain": [
       "Index(['tag', 'version', 'custom', 'abstract', 'datatype', 'iord', 'crdr',\n",
       "       'tlabel', 'doc'],\n",
       "      dtype='object')"
      ]
     },
     "execution_count": 26,
     "metadata": {},
     "output_type": "execute_result"
    }
   ],
   "source": [
    "tag_df.columns"
   ]
  },
  {
   "cell_type": "code",
   "execution_count": 6,
   "metadata": {},
   "outputs": [
    {
     "data": {
      "text/plain": [
       "8084"
      ]
     },
     "execution_count": 6,
     "metadata": {},
     "output_type": "execute_result"
    }
   ],
   "source": [
    "num_df.adsh.nunique()"
   ]
  },
  {
   "cell_type": "code",
   "execution_count": 7,
   "metadata": {},
   "outputs": [
    {
     "data": {
      "text/plain": [
       "'0001193125-23-031180'"
      ]
     },
     "execution_count": 7,
     "metadata": {},
     "output_type": "execute_result"
    }
   ],
   "source": [
    "num_df.iloc[0].adsh"
   ]
  },
  {
   "cell_type": "code",
   "execution_count": 13,
   "metadata": {},
   "outputs": [
    {
     "data": {
      "text/plain": [
       "1070304    1\n",
       "Name: cik, dtype: int64"
      ]
     },
     "execution_count": 13,
     "metadata": {},
     "output_type": "execute_result"
    }
   ],
   "source": [
    "example_adsh = \"0001193125-23-031180\"\n",
    "sub_df[sub_df.adsh == example_adsh].cik.value_counts()"
   ]
  },
  {
   "cell_type": "code",
   "execution_count": 14,
   "metadata": {},
   "outputs": [
    {
     "data": {
      "text/plain": [
       "d307748d6k_htm.xml    1\n",
       "Name: instance, dtype: int64"
      ]
     },
     "execution_count": 14,
     "metadata": {},
     "output_type": "execute_result"
    }
   ],
   "source": [
    "cik = \"1070304\"\n",
    "sub_df[sub_df.adsh == example_adsh].instance.value_counts()"
   ]
  },
  {
   "cell_type": "code",
   "execution_count": 18,
   "metadata": {},
   "outputs": [
    {
     "data": {
      "text/html": [
       "<div>\n",
       "<style scoped>\n",
       "    .dataframe tbody tr th:only-of-type {\n",
       "        vertical-align: middle;\n",
       "    }\n",
       "\n",
       "    .dataframe tbody tr th {\n",
       "        vertical-align: top;\n",
       "    }\n",
       "\n",
       "    .dataframe thead th {\n",
       "        text-align: right;\n",
       "    }\n",
       "</style>\n",
       "<table border=\"1\" class=\"dataframe\">\n",
       "  <thead>\n",
       "    <tr style=\"text-align: right;\">\n",
       "      <th></th>\n",
       "      <th>adsh</th>\n",
       "      <th>report</th>\n",
       "      <th>line</th>\n",
       "      <th>stmt</th>\n",
       "      <th>inpth</th>\n",
       "      <th>rfile</th>\n",
       "      <th>tag</th>\n",
       "      <th>version</th>\n",
       "      <th>plabel</th>\n",
       "      <th>negating</th>\n",
       "    </tr>\n",
       "  </thead>\n",
       "  <tbody>\n",
       "    <tr>\n",
       "      <th>0</th>\n",
       "      <td>0001023459-23-000011</td>\n",
       "      <td>2</td>\n",
       "      <td>10</td>\n",
       "      <td>BS</td>\n",
       "      <td>0</td>\n",
       "      <td>H</td>\n",
       "      <td>AccountsReceivableNetCurrent</td>\n",
       "      <td>us-gaap/2021</td>\n",
       "      <td>Accounts receivable, net of allowance for doub...</td>\n",
       "      <td>0</td>\n",
       "    </tr>\n",
       "  </tbody>\n",
       "</table>\n",
       "</div>"
      ],
      "text/plain": [
       "                   adsh  report  line stmt  inpth rfile  \\\n",
       "0  0001023459-23-000011       2    10   BS      0     H   \n",
       "\n",
       "                            tag       version  \\\n",
       "0  AccountsReceivableNetCurrent  us-gaap/2021   \n",
       "\n",
       "                                              plabel  negating  \n",
       "0  Accounts receivable, net of allowance for doub...         0  "
      ]
     },
     "execution_count": 18,
     "metadata": {},
     "output_type": "execute_result"
    }
   ],
   "source": [
    "# url_base = \"http://www.sec.gov/Archives/edgar/data/\"\n",
    "pre_df.head(1)"
   ]
  },
  {
   "cell_type": "code",
   "execution_count": 20,
   "metadata": {},
   "outputs": [
    {
     "data": {
      "text/plain": [
       "Index(['adsh', 'cik', 'name', 'sic', 'countryba', 'stprba', 'cityba', 'zipba',\n",
       "       'bas1', 'bas2', 'baph', 'countryma', 'stprma', 'cityma', 'zipma',\n",
       "       'mas1', 'mas2', 'countryinc', 'stprinc', 'ein', 'former', 'changed',\n",
       "       'afs', 'wksi', 'fye', 'form', 'period', 'fy', 'fp', 'filed', 'accepted',\n",
       "       'prevrpt', 'detail', 'instance', 'nciks', 'aciks'],\n",
       "      dtype='object')"
      ]
     },
     "execution_count": 20,
     "metadata": {},
     "output_type": "execute_result"
    }
   ],
   "source": [
    "sub_df.columns"
   ]
  },
  {
   "cell_type": "code",
   "execution_count": 22,
   "metadata": {},
   "outputs": [
    {
     "data": {
      "text/html": [
       "<div>\n",
       "<style scoped>\n",
       "    .dataframe tbody tr th:only-of-type {\n",
       "        vertical-align: middle;\n",
       "    }\n",
       "\n",
       "    .dataframe tbody tr th {\n",
       "        vertical-align: top;\n",
       "    }\n",
       "\n",
       "    .dataframe thead th {\n",
       "        text-align: right;\n",
       "    }\n",
       "</style>\n",
       "<table border=\"1\" class=\"dataframe\">\n",
       "  <thead>\n",
       "    <tr style=\"text-align: right;\">\n",
       "      <th></th>\n",
       "      <th>adsh</th>\n",
       "      <th>name</th>\n",
       "      <th>cik</th>\n",
       "      <th>aciks</th>\n",
       "      <th>instance</th>\n",
       "    </tr>\n",
       "  </thead>\n",
       "  <tbody>\n",
       "    <tr>\n",
       "      <th>0</th>\n",
       "      <td>0000004457-23-000026</td>\n",
       "      <td>U-HAUL HOLDING CO /NV/</td>\n",
       "      <td>4457</td>\n",
       "      <td>NaN</td>\n",
       "      <td>uhal-20230323_htm.xml</td>\n",
       "    </tr>\n",
       "  </tbody>\n",
       "</table>\n",
       "</div>"
      ],
      "text/plain": [
       "                   adsh                    name   cik aciks  \\\n",
       "0  0000004457-23-000026  U-HAUL HOLDING CO /NV/  4457   NaN   \n",
       "\n",
       "                instance  \n",
       "0  uhal-20230323_htm.xml  "
      ]
     },
     "execution_count": 22,
     "metadata": {},
     "output_type": "execute_result"
    }
   ],
   "source": [
    "sub_df.head(1)[[\"adsh\", \"name\", \"cik\", \"aciks\", \"instance\"]]"
   ]
  },
  {
   "cell_type": "code",
   "execution_count": 23,
   "metadata": {},
   "outputs": [
    {
     "data": {
      "text/html": [
       "<div>\n",
       "<style scoped>\n",
       "    .dataframe tbody tr th:only-of-type {\n",
       "        vertical-align: middle;\n",
       "    }\n",
       "\n",
       "    .dataframe tbody tr th {\n",
       "        vertical-align: top;\n",
       "    }\n",
       "\n",
       "    .dataframe thead th {\n",
       "        text-align: right;\n",
       "    }\n",
       "</style>\n",
       "<table border=\"1\" class=\"dataframe\">\n",
       "  <thead>\n",
       "    <tr style=\"text-align: right;\">\n",
       "      <th></th>\n",
       "      <th>adsh</th>\n",
       "      <th>cik</th>\n",
       "      <th>name</th>\n",
       "      <th>sic</th>\n",
       "      <th>countryba</th>\n",
       "      <th>stprba</th>\n",
       "      <th>cityba</th>\n",
       "      <th>zipba</th>\n",
       "      <th>bas1</th>\n",
       "      <th>bas2</th>\n",
       "      <th>...</th>\n",
       "      <th>period</th>\n",
       "      <th>fy</th>\n",
       "      <th>fp</th>\n",
       "      <th>filed</th>\n",
       "      <th>accepted</th>\n",
       "      <th>prevrpt</th>\n",
       "      <th>detail</th>\n",
       "      <th>instance</th>\n",
       "      <th>nciks</th>\n",
       "      <th>aciks</th>\n",
       "    </tr>\n",
       "  </thead>\n",
       "  <tbody>\n",
       "    <tr>\n",
       "      <th>0</th>\n",
       "      <td>0000004457-23-000026</td>\n",
       "      <td>4457</td>\n",
       "      <td>U-HAUL HOLDING CO /NV/</td>\n",
       "      <td>7510.0</td>\n",
       "      <td>US</td>\n",
       "      <td>NV</td>\n",
       "      <td>RENO</td>\n",
       "      <td>89511</td>\n",
       "      <td>5555 KIETZKE LANE STE 100</td>\n",
       "      <td>NaN</td>\n",
       "      <td>...</td>\n",
       "      <td>20230331.0</td>\n",
       "      <td>NaN</td>\n",
       "      <td>NaN</td>\n",
       "      <td>20230329</td>\n",
       "      <td>2023-03-29 16:05:00.0</td>\n",
       "      <td>0</td>\n",
       "      <td>0</td>\n",
       "      <td>uhal-20230323_htm.xml</td>\n",
       "      <td>1</td>\n",
       "      <td>NaN</td>\n",
       "    </tr>\n",
       "  </tbody>\n",
       "</table>\n",
       "<p>1 rows × 36 columns</p>\n",
       "</div>"
      ],
      "text/plain": [
       "                   adsh   cik                    name     sic countryba  \\\n",
       "0  0000004457-23-000026  4457  U-HAUL HOLDING CO /NV/  7510.0        US   \n",
       "\n",
       "  stprba cityba  zipba                       bas1 bas2  ...      period  fy  \\\n",
       "0     NV   RENO  89511  5555 KIETZKE LANE STE 100  NaN  ...  20230331.0 NaN   \n",
       "\n",
       "    fp     filed               accepted prevrpt detail               instance  \\\n",
       "0  NaN  20230329  2023-03-29 16:05:00.0       0      0  uhal-20230323_htm.xml   \n",
       "\n",
       "  nciks  aciks  \n",
       "0     1    NaN  \n",
       "\n",
       "[1 rows x 36 columns]"
      ]
     },
     "execution_count": 23,
     "metadata": {},
     "output_type": "execute_result"
    }
   ],
   "source": [
    "tmp = \"http://www.sec.gov/Archives/edgar/data/4457/000000445723000026/uhal-20230323_htm.xml\"\n",
    "sub_df[sub_df.adsh == \"0000004457-23-000026\"]"
   ]
  },
  {
   "cell_type": "code",
   "execution_count": 27,
   "metadata": {},
   "outputs": [
    {
     "data": {
      "text/plain": [
       "inpth    0\n",
       "rfile    H\n",
       "Name: 0, dtype: object"
      ]
     },
     "execution_count": 27,
     "metadata": {},
     "output_type": "execute_result"
    }
   ],
   "source": [
    "pre_df.iloc[0][[\"inpth\", \"rfile\"]]"
   ]
  },
  {
   "cell_type": "code",
   "execution_count": 28,
   "metadata": {},
   "outputs": [
    {
     "data": {
      "text/plain": [
       "tag                     AccountingStandardsUpdate201613Member\n",
       "version                                          us-gaap/2021\n",
       "custom                                                      0\n",
       "abstract                                                    1\n",
       "datatype                                               member\n",
       "iord                                                      NaN\n",
       "crdr                                                      NaN\n",
       "tlabel           Accounting Standards Update 2016-13 [Member]\n",
       "doc         Accounting Standards Update 2016-13 Financial ...\n",
       "Name: 0, dtype: object"
      ]
     },
     "execution_count": 28,
     "metadata": {},
     "output_type": "execute_result"
    }
   ],
   "source": [
    "tag_df.iloc[0]"
   ]
  },
  {
   "cell_type": "code",
   "execution_count": 31,
   "metadata": {},
   "outputs": [
    {
     "data": {
      "text/plain": [
       "form8-k_htm.xml             1183\n",
       "form10-k_htm.xml             253\n",
       "form10-q_htm.xml             111\n",
       "form8k_htm.xml               106\n",
       "form8-ka_htm.xml              54\n",
       "                            ... \n",
       "uone-20230308x8k_htm.xml       1\n",
       "adap-20230310x8k_htm.xml       1\n",
       "agx-20230307x8k_htm.xml        1\n",
       "dlr-20230306x8k_htm.xml        1\n",
       "rivn-20230103_htm.xml          1\n",
       "Name: instance, Length: 22888, dtype: int64"
      ]
     },
     "execution_count": 31,
     "metadata": {},
     "output_type": "execute_result"
    }
   ],
   "source": [
    "sub_df.instance.value_counts()"
   ]
  },
  {
   "attachments": {},
   "cell_type": "markdown",
   "metadata": {},
   "source": [
    "Need to create document url correctly. Example - \"https://www.sec.gov/Archives/edgar/data/4457/000000445723000026/uhal-20230323.htm\" - for the `instance` column, you need to split on `_` and then just do `.htm`"
   ]
  },
  {
   "cell_type": "code",
   "execution_count": 36,
   "metadata": {},
   "outputs": [
    {
     "data": {
      "text/html": [
       "<div>\n",
       "<style scoped>\n",
       "    .dataframe tbody tr th:only-of-type {\n",
       "        vertical-align: middle;\n",
       "    }\n",
       "\n",
       "    .dataframe tbody tr th {\n",
       "        vertical-align: top;\n",
       "    }\n",
       "\n",
       "    .dataframe thead th {\n",
       "        text-align: right;\n",
       "    }\n",
       "</style>\n",
       "<table border=\"1\" class=\"dataframe\">\n",
       "  <thead>\n",
       "    <tr style=\"text-align: right;\">\n",
       "      <th></th>\n",
       "      <th>cityma</th>\n",
       "      <th>name</th>\n",
       "    </tr>\n",
       "  </thead>\n",
       "  <tbody>\n",
       "    <tr>\n",
       "      <th>0</th>\n",
       "      <td>RENO</td>\n",
       "      <td>U-HAUL HOLDING CO /NV/</td>\n",
       "    </tr>\n",
       "  </tbody>\n",
       "</table>\n",
       "</div>"
      ],
      "text/plain": [
       "  cityma                    name\n",
       "0   RENO  U-HAUL HOLDING CO /NV/"
      ]
     },
     "execution_count": 36,
     "metadata": {},
     "output_type": "execute_result"
    }
   ],
   "source": [
    "sub_df[sub_df.adsh == \"0000004457-23-000026\"][[\"cityma\", \"name\"]]"
   ]
  },
  {
   "cell_type": "code",
   "execution_count": 38,
   "metadata": {},
   "outputs": [
    {
     "data": {
      "text/plain": [
       "(8084, 36)"
      ]
     },
     "execution_count": 38,
     "metadata": {},
     "output_type": "execute_result"
    }
   ],
   "source": [
    "sub_num = sub_df[sub_df.adsh.isin(num_df.adsh)]\n",
    "sub_num.shape"
   ]
  },
  {
   "cell_type": "code",
   "execution_count": 64,
   "metadata": {},
   "outputs": [
    {
     "data": {
      "text/html": [
       "<div>\n",
       "<style scoped>\n",
       "    .dataframe tbody tr th:only-of-type {\n",
       "        vertical-align: middle;\n",
       "    }\n",
       "\n",
       "    .dataframe tbody tr th {\n",
       "        vertical-align: top;\n",
       "    }\n",
       "\n",
       "    .dataframe thead th {\n",
       "        text-align: right;\n",
       "    }\n",
       "</style>\n",
       "<table border=\"1\" class=\"dataframe\">\n",
       "  <thead>\n",
       "    <tr style=\"text-align: right;\">\n",
       "      <th></th>\n",
       "      <th>adsh</th>\n",
       "      <th>cik</th>\n",
       "      <th>name</th>\n",
       "      <th>sic</th>\n",
       "      <th>countryba</th>\n",
       "      <th>stprba</th>\n",
       "      <th>cityba</th>\n",
       "      <th>zipba</th>\n",
       "      <th>bas1</th>\n",
       "      <th>bas2</th>\n",
       "      <th>...</th>\n",
       "      <th>period</th>\n",
       "      <th>fy</th>\n",
       "      <th>fp</th>\n",
       "      <th>filed</th>\n",
       "      <th>accepted</th>\n",
       "      <th>prevrpt</th>\n",
       "      <th>detail</th>\n",
       "      <th>instance</th>\n",
       "      <th>nciks</th>\n",
       "      <th>aciks</th>\n",
       "    </tr>\n",
       "  </thead>\n",
       "  <tbody>\n",
       "    <tr>\n",
       "      <th>1</th>\n",
       "      <td>0000005272-23-000014</td>\n",
       "      <td>5272</td>\n",
       "      <td>AMERICAN INTERNATIONAL GROUP, INC.</td>\n",
       "      <td>6331.0</td>\n",
       "      <td>US</td>\n",
       "      <td>NY</td>\n",
       "      <td>NEW YORK</td>\n",
       "      <td>10020-1304</td>\n",
       "      <td>1271 AVE OF THE AMERICAS</td>\n",
       "      <td>FL 37</td>\n",
       "      <td>...</td>\n",
       "      <td>NaN</td>\n",
       "      <td>NaN</td>\n",
       "      <td>NaN</td>\n",
       "      <td>20230329</td>\n",
       "      <td>2023-03-29 16:44:00.0</td>\n",
       "      <td>0</td>\n",
       "      <td>0</td>\n",
       "      <td>aig-20230329_htm.xml</td>\n",
       "      <td>1</td>\n",
       "      <td>NaN</td>\n",
       "    </tr>\n",
       "    <tr>\n",
       "      <th>5</th>\n",
       "      <td>0000072162-23-000015</td>\n",
       "      <td>72162</td>\n",
       "      <td>NL INDUSTRIES INC</td>\n",
       "      <td>2810.0</td>\n",
       "      <td>US</td>\n",
       "      <td>TX</td>\n",
       "      <td>DALLAS</td>\n",
       "      <td>75240-2620</td>\n",
       "      <td>5430 LBJ FREEWAY</td>\n",
       "      <td>SUITE 1700</td>\n",
       "      <td>...</td>\n",
       "      <td>NaN</td>\n",
       "      <td>NaN</td>\n",
       "      <td>NaN</td>\n",
       "      <td>20230329</td>\n",
       "      <td>2023-03-29 16:17:00.0</td>\n",
       "      <td>0</td>\n",
       "      <td>0</td>\n",
       "      <td>nl-20230518xdef14a_htm.xml</td>\n",
       "      <td>1</td>\n",
       "      <td>NaN</td>\n",
       "    </tr>\n",
       "    <tr>\n",
       "      <th>9</th>\n",
       "      <td>0000109198-23-000004</td>\n",
       "      <td>109198</td>\n",
       "      <td>TJX COMPANIES INC /DE/</td>\n",
       "      <td>5651.0</td>\n",
       "      <td>US</td>\n",
       "      <td>MA</td>\n",
       "      <td>FRAMINGHAM</td>\n",
       "      <td>01701</td>\n",
       "      <td>770 COCHITUATE RD</td>\n",
       "      <td>NaN</td>\n",
       "      <td>...</td>\n",
       "      <td>20230131.0</td>\n",
       "      <td>2022.0</td>\n",
       "      <td>FY</td>\n",
       "      <td>20230329</td>\n",
       "      <td>2023-03-29 11:39:00.0</td>\n",
       "      <td>0</td>\n",
       "      <td>1</td>\n",
       "      <td>tjx-20230128_htm.xml</td>\n",
       "      <td>1</td>\n",
       "      <td>NaN</td>\n",
       "    </tr>\n",
       "  </tbody>\n",
       "</table>\n",
       "<p>3 rows × 36 columns</p>\n",
       "</div>"
      ],
      "text/plain": [
       "                   adsh     cik                                name     sic  \\\n",
       "1  0000005272-23-000014    5272  AMERICAN INTERNATIONAL GROUP, INC.  6331.0   \n",
       "5  0000072162-23-000015   72162                   NL INDUSTRIES INC  2810.0   \n",
       "9  0000109198-23-000004  109198              TJX COMPANIES INC /DE/  5651.0   \n",
       "\n",
       "  countryba stprba      cityba       zipba                      bas1  \\\n",
       "1        US     NY    NEW YORK  10020-1304  1271 AVE OF THE AMERICAS   \n",
       "5        US     TX      DALLAS  75240-2620          5430 LBJ FREEWAY   \n",
       "9        US     MA  FRAMINGHAM       01701         770 COCHITUATE RD   \n",
       "\n",
       "         bas2  ...      period      fy   fp     filed               accepted  \\\n",
       "1       FL 37  ...         NaN     NaN  NaN  20230329  2023-03-29 16:44:00.0   \n",
       "5  SUITE 1700  ...         NaN     NaN  NaN  20230329  2023-03-29 16:17:00.0   \n",
       "9         NaN  ...  20230131.0  2022.0   FY  20230329  2023-03-29 11:39:00.0   \n",
       "\n",
       "  prevrpt detail                    instance nciks  aciks  \n",
       "1       0      0        aig-20230329_htm.xml     1    NaN  \n",
       "5       0      0  nl-20230518xdef14a_htm.xml     1    NaN  \n",
       "9       0      1        tjx-20230128_htm.xml     1    NaN  \n",
       "\n",
       "[3 rows x 36 columns]"
      ]
     },
     "execution_count": 64,
     "metadata": {},
     "output_type": "execute_result"
    }
   ],
   "source": [
    "sub_num.head(3)"
   ]
  },
  {
   "cell_type": "code",
   "execution_count": 66,
   "metadata": {},
   "outputs": [
    {
     "data": {
      "text/html": [
       "<div>\n",
       "<style scoped>\n",
       "    .dataframe tbody tr th:only-of-type {\n",
       "        vertical-align: middle;\n",
       "    }\n",
       "\n",
       "    .dataframe tbody tr th {\n",
       "        vertical-align: top;\n",
       "    }\n",
       "\n",
       "    .dataframe thead th {\n",
       "        text-align: right;\n",
       "    }\n",
       "</style>\n",
       "<table border=\"1\" class=\"dataframe\">\n",
       "  <thead>\n",
       "    <tr style=\"text-align: right;\">\n",
       "      <th></th>\n",
       "      <th>adsh</th>\n",
       "      <th>tag</th>\n",
       "      <th>version</th>\n",
       "      <th>coreg</th>\n",
       "      <th>ddate</th>\n",
       "      <th>qtrs</th>\n",
       "      <th>uom</th>\n",
       "      <th>value</th>\n",
       "      <th>footnote</th>\n",
       "    </tr>\n",
       "  </thead>\n",
       "  <tbody>\n",
       "    <tr>\n",
       "      <th>155985</th>\n",
       "      <td>0000109198-23-000004</td>\n",
       "      <td>EntityCommonStockSharesOutstanding</td>\n",
       "      <td>dei/2022</td>\n",
       "      <td>NaN</td>\n",
       "      <td>20230331</td>\n",
       "      <td>0</td>\n",
       "      <td>shares</td>\n",
       "      <td>1.152569e+09</td>\n",
       "      <td>NaN</td>\n",
       "    </tr>\n",
       "    <tr>\n",
       "      <th>159564</th>\n",
       "      <td>0000109198-23-000004</td>\n",
       "      <td>EntityPublicFloat</td>\n",
       "      <td>dei/2022</td>\n",
       "      <td>NaN</td>\n",
       "      <td>20220731</td>\n",
       "      <td>0</td>\n",
       "      <td>USD</td>\n",
       "      <td>7.100000e+10</td>\n",
       "      <td>NaN</td>\n",
       "    </tr>\n",
       "    <tr>\n",
       "      <th>167735</th>\n",
       "      <td>0000109198-23-000004</td>\n",
       "      <td>AccountsPayableCurrent</td>\n",
       "      <td>us-gaap/2022</td>\n",
       "      <td>NaN</td>\n",
       "      <td>20230131</td>\n",
       "      <td>0</td>\n",
       "      <td>USD</td>\n",
       "      <td>3.794000e+09</td>\n",
       "      <td>NaN</td>\n",
       "    </tr>\n",
       "    <tr>\n",
       "      <th>167736</th>\n",
       "      <td>0000109198-23-000004</td>\n",
       "      <td>AccountsPayableCurrent</td>\n",
       "      <td>us-gaap/2022</td>\n",
       "      <td>NaN</td>\n",
       "      <td>20220131</td>\n",
       "      <td>0</td>\n",
       "      <td>USD</td>\n",
       "      <td>4.465000e+09</td>\n",
       "      <td>NaN</td>\n",
       "    </tr>\n",
       "    <tr>\n",
       "      <th>183364</th>\n",
       "      <td>0000109198-23-000004</td>\n",
       "      <td>AccountsReceivableNetCurrent</td>\n",
       "      <td>us-gaap/2022</td>\n",
       "      <td>NaN</td>\n",
       "      <td>20230131</td>\n",
       "      <td>0</td>\n",
       "      <td>USD</td>\n",
       "      <td>5.630000e+08</td>\n",
       "      <td>NaN</td>\n",
       "    </tr>\n",
       "    <tr>\n",
       "      <th>...</th>\n",
       "      <td>...</td>\n",
       "      <td>...</td>\n",
       "      <td>...</td>\n",
       "      <td>...</td>\n",
       "      <td>...</td>\n",
       "      <td>...</td>\n",
       "      <td>...</td>\n",
       "      <td>...</td>\n",
       "      <td>...</td>\n",
       "    </tr>\n",
       "    <tr>\n",
       "      <th>3217766</th>\n",
       "      <td>0000109198-23-000004</td>\n",
       "      <td>UnrecognizedTaxBenefitsNetOfFederalTaxBenefit</td>\n",
       "      <td>0000109198-23-000004</td>\n",
       "      <td>NaN</td>\n",
       "      <td>20220131</td>\n",
       "      <td>0</td>\n",
       "      <td>USD</td>\n",
       "      <td>2.880000e+08</td>\n",
       "      <td>NaN</td>\n",
       "    </tr>\n",
       "    <tr>\n",
       "      <th>3217767</th>\n",
       "      <td>0000109198-23-000004</td>\n",
       "      <td>UnrecognizedTaxBenefitsNetOfFederalTaxBenefit</td>\n",
       "      <td>0000109198-23-000004</td>\n",
       "      <td>NaN</td>\n",
       "      <td>20210131</td>\n",
       "      <td>0</td>\n",
       "      <td>USD</td>\n",
       "      <td>2.720000e+08</td>\n",
       "      <td>NaN</td>\n",
       "    </tr>\n",
       "    <tr>\n",
       "      <th>3217768</th>\n",
       "      <td>0000109198-23-000004</td>\n",
       "      <td>VariableAndShortTermLeaseCost</td>\n",
       "      <td>0000109198-23-000004</td>\n",
       "      <td>NaN</td>\n",
       "      <td>20230131</td>\n",
       "      <td>4</td>\n",
       "      <td>USD</td>\n",
       "      <td>1.359000e+09</td>\n",
       "      <td>NaN</td>\n",
       "    </tr>\n",
       "    <tr>\n",
       "      <th>3217769</th>\n",
       "      <td>0000109198-23-000004</td>\n",
       "      <td>VariableAndShortTermLeaseCost</td>\n",
       "      <td>0000109198-23-000004</td>\n",
       "      <td>NaN</td>\n",
       "      <td>20220131</td>\n",
       "      <td>4</td>\n",
       "      <td>USD</td>\n",
       "      <td>1.386000e+09</td>\n",
       "      <td>NaN</td>\n",
       "    </tr>\n",
       "    <tr>\n",
       "      <th>3217770</th>\n",
       "      <td>0000109198-23-000004</td>\n",
       "      <td>VariableAndShortTermLeaseCost</td>\n",
       "      <td>0000109198-23-000004</td>\n",
       "      <td>NaN</td>\n",
       "      <td>20210131</td>\n",
       "      <td>4</td>\n",
       "      <td>USD</td>\n",
       "      <td>1.163000e+09</td>\n",
       "      <td>NaN</td>\n",
       "    </tr>\n",
       "  </tbody>\n",
       "</table>\n",
       "<p>619 rows × 9 columns</p>\n",
       "</div>"
      ],
      "text/plain": [
       "                         adsh                                            tag  \\\n",
       "155985   0000109198-23-000004             EntityCommonStockSharesOutstanding   \n",
       "159564   0000109198-23-000004                              EntityPublicFloat   \n",
       "167735   0000109198-23-000004                         AccountsPayableCurrent   \n",
       "167736   0000109198-23-000004                         AccountsPayableCurrent   \n",
       "183364   0000109198-23-000004                   AccountsReceivableNetCurrent   \n",
       "...                       ...                                            ...   \n",
       "3217766  0000109198-23-000004  UnrecognizedTaxBenefitsNetOfFederalTaxBenefit   \n",
       "3217767  0000109198-23-000004  UnrecognizedTaxBenefitsNetOfFederalTaxBenefit   \n",
       "3217768  0000109198-23-000004                  VariableAndShortTermLeaseCost   \n",
       "3217769  0000109198-23-000004                  VariableAndShortTermLeaseCost   \n",
       "3217770  0000109198-23-000004                  VariableAndShortTermLeaseCost   \n",
       "\n",
       "                      version coreg     ddate  qtrs     uom         value  \\\n",
       "155985               dei/2022   NaN  20230331     0  shares  1.152569e+09   \n",
       "159564               dei/2022   NaN  20220731     0     USD  7.100000e+10   \n",
       "167735           us-gaap/2022   NaN  20230131     0     USD  3.794000e+09   \n",
       "167736           us-gaap/2022   NaN  20220131     0     USD  4.465000e+09   \n",
       "183364           us-gaap/2022   NaN  20230131     0     USD  5.630000e+08   \n",
       "...                       ...   ...       ...   ...     ...           ...   \n",
       "3217766  0000109198-23-000004   NaN  20220131     0     USD  2.880000e+08   \n",
       "3217767  0000109198-23-000004   NaN  20210131     0     USD  2.720000e+08   \n",
       "3217768  0000109198-23-000004   NaN  20230131     4     USD  1.359000e+09   \n",
       "3217769  0000109198-23-000004   NaN  20220131     4     USD  1.386000e+09   \n",
       "3217770  0000109198-23-000004   NaN  20210131     4     USD  1.163000e+09   \n",
       "\n",
       "        footnote  \n",
       "155985       NaN  \n",
       "159564       NaN  \n",
       "167735       NaN  \n",
       "167736       NaN  \n",
       "183364       NaN  \n",
       "...          ...  \n",
       "3217766      NaN  \n",
       "3217767      NaN  \n",
       "3217768      NaN  \n",
       "3217769      NaN  \n",
       "3217770      NaN  \n",
       "\n",
       "[619 rows x 9 columns]"
      ]
     },
     "execution_count": 66,
     "metadata": {},
     "output_type": "execute_result"
    }
   ],
   "source": [
    "example_adsh = \"0000109198-23-000004\"\n",
    "num_df[num_df.adsh == example_adsh]"
   ]
  },
  {
   "cell_type": "code",
   "execution_count": 70,
   "metadata": {},
   "outputs": [
    {
     "data": {
      "text/html": [
       "<div>\n",
       "<style scoped>\n",
       "    .dataframe tbody tr th:only-of-type {\n",
       "        vertical-align: middle;\n",
       "    }\n",
       "\n",
       "    .dataframe tbody tr th {\n",
       "        vertical-align: top;\n",
       "    }\n",
       "\n",
       "    .dataframe thead th {\n",
       "        text-align: right;\n",
       "    }\n",
       "</style>\n",
       "<table border=\"1\" class=\"dataframe\">\n",
       "  <thead>\n",
       "    <tr style=\"text-align: right;\">\n",
       "      <th></th>\n",
       "      <th>adsh</th>\n",
       "      <th>tag</th>\n",
       "      <th>version</th>\n",
       "      <th>coreg</th>\n",
       "      <th>ddate</th>\n",
       "      <th>qtrs</th>\n",
       "      <th>uom</th>\n",
       "      <th>value</th>\n",
       "      <th>footnote</th>\n",
       "    </tr>\n",
       "  </thead>\n",
       "  <tbody>\n",
       "    <tr>\n",
       "      <th>2983863</th>\n",
       "      <td>0001564590-23-002740</td>\n",
       "      <td>UnrecognizedTaxBenefitsThatWouldImpactDeferred...</td>\n",
       "      <td>0001564590-23-002740</td>\n",
       "      <td>NaN</td>\n",
       "      <td>20221231</td>\n",
       "      <td>0</td>\n",
       "      <td>USD</td>\n",
       "      <td>11800000.0</td>\n",
       "      <td>NaN</td>\n",
       "    </tr>\n",
       "  </tbody>\n",
       "</table>\n",
       "</div>"
      ],
      "text/plain": [
       "                         adsh  \\\n",
       "2983863  0001564590-23-002740   \n",
       "\n",
       "                                                       tag  \\\n",
       "2983863  UnrecognizedTaxBenefitsThatWouldImpactDeferred...   \n",
       "\n",
       "                      version coreg     ddate  qtrs  uom       value footnote  \n",
       "2983863  0001564590-23-002740   NaN  20221231     0  USD  11800000.0      NaN  "
      ]
     },
     "execution_count": 70,
     "metadata": {},
     "output_type": "execute_result"
    }
   ],
   "source": [
    "num_df[num_df.tag == \"UnrecognizedTaxBenefitsThatWouldImpactDeferredTaxLiabilities\"]\n"
   ]
  },
  {
   "cell_type": "code",
   "execution_count": 54,
   "metadata": {},
   "outputs": [
    {
     "data": {
      "text/html": [
       "<div>\n",
       "<style scoped>\n",
       "    .dataframe tbody tr th:only-of-type {\n",
       "        vertical-align: middle;\n",
       "    }\n",
       "\n",
       "    .dataframe tbody tr th {\n",
       "        vertical-align: top;\n",
       "    }\n",
       "\n",
       "    .dataframe thead th {\n",
       "        text-align: right;\n",
       "    }\n",
       "</style>\n",
       "<table border=\"1\" class=\"dataframe\">\n",
       "  <thead>\n",
       "    <tr style=\"text-align: right;\">\n",
       "      <th></th>\n",
       "      <th>adsh</th>\n",
       "      <th>cik</th>\n",
       "      <th>name</th>\n",
       "      <th>sic</th>\n",
       "      <th>countryba</th>\n",
       "      <th>stprba</th>\n",
       "      <th>cityba</th>\n",
       "      <th>zipba</th>\n",
       "      <th>bas1</th>\n",
       "      <th>bas2</th>\n",
       "      <th>...</th>\n",
       "      <th>period</th>\n",
       "      <th>fy</th>\n",
       "      <th>fp</th>\n",
       "      <th>filed</th>\n",
       "      <th>accepted</th>\n",
       "      <th>prevrpt</th>\n",
       "      <th>detail</th>\n",
       "      <th>instance</th>\n",
       "      <th>nciks</th>\n",
       "      <th>aciks</th>\n",
       "    </tr>\n",
       "  </thead>\n",
       "  <tbody>\n",
       "    <tr>\n",
       "      <th>1</th>\n",
       "      <td>0000005272-23-000014</td>\n",
       "      <td>5272</td>\n",
       "      <td>AMERICAN INTERNATIONAL GROUP, INC.</td>\n",
       "      <td>6331.0</td>\n",
       "      <td>US</td>\n",
       "      <td>NY</td>\n",
       "      <td>NEW YORK</td>\n",
       "      <td>10020-1304</td>\n",
       "      <td>1271 AVE OF THE AMERICAS</td>\n",
       "      <td>FL 37</td>\n",
       "      <td>...</td>\n",
       "      <td>NaN</td>\n",
       "      <td>NaN</td>\n",
       "      <td>NaN</td>\n",
       "      <td>20230329</td>\n",
       "      <td>2023-03-29 16:44:00.0</td>\n",
       "      <td>0</td>\n",
       "      <td>0</td>\n",
       "      <td>aig-20230329_htm.xml</td>\n",
       "      <td>1</td>\n",
       "      <td>NaN</td>\n",
       "    </tr>\n",
       "  </tbody>\n",
       "</table>\n",
       "<p>1 rows × 36 columns</p>\n",
       "</div>"
      ],
      "text/plain": [
       "                   adsh   cik                                name     sic  \\\n",
       "1  0000005272-23-000014  5272  AMERICAN INTERNATIONAL GROUP, INC.  6331.0   \n",
       "\n",
       "  countryba stprba    cityba       zipba                      bas1   bas2  \\\n",
       "1        US     NY  NEW YORK  10020-1304  1271 AVE OF THE AMERICAS  FL 37   \n",
       "\n",
       "   ... period  fy   fp     filed               accepted prevrpt detail  \\\n",
       "1  ...    NaN NaN  NaN  20230329  2023-03-29 16:44:00.0       0      0   \n",
       "\n",
       "               instance nciks  aciks  \n",
       "1  aig-20230329_htm.xml     1    NaN  \n",
       "\n",
       "[1 rows x 36 columns]"
      ]
     },
     "execution_count": 54,
     "metadata": {},
     "output_type": "execute_result"
    }
   ],
   "source": [
    "sub_df[sub_df.adsh == example_adsh]"
   ]
  },
  {
   "cell_type": "code",
   "execution_count": 58,
   "metadata": {},
   "outputs": [
    {
     "data": {
      "text/plain": [
       "'The portion of profit or loss for the period, net of income taxes, which is attributable to the parent.'"
      ]
     },
     "execution_count": 58,
     "metadata": {},
     "output_type": "execute_result"
    }
   ],
   "source": [
    "tag_df[(tag_df.tag == \"NetIncomeLoss\") & (tag_df.version == \"us-gaap/2022\")].iloc[0][\"doc\"]"
   ]
  },
  {
   "cell_type": "code",
   "execution_count": 46,
   "metadata": {},
   "outputs": [
    {
     "name": "stdout",
     "output_type": "stream",
     "text": [
      "Index(['tag', 'version', 'custom', 'abstract', 'datatype', 'iord', 'crdr',\n",
      "       'tlabel', 'doc'],\n",
      "      dtype='object')\n"
     ]
    },
    {
     "data": {
      "text/plain": [
       "0000005272-23-000014    1\n",
       "0000034067-23-000033    1\n",
       "0000764622-23-000023    1\n",
       "0000764180-23-000020    1\n",
       "0000717423-23-000015    1\n",
       "                       ..\n",
       "0001178913-23-001057    1\n",
       "0001178913-23-001049    1\n",
       "0001178913-23-001041    1\n",
       "0001174947-23-000382    1\n",
       "0001628280-23-000100    1\n",
       "Name: adsh, Length: 8084, dtype: int64"
      ]
     },
     "execution_count": 46,
     "metadata": {},
     "output_type": "execute_result"
    }
   ],
   "source": [
    "print(tag_df.columns)\n",
    "sub_num.adsh.value_counts()"
   ]
  },
  {
   "cell_type": "code",
   "execution_count": 47,
   "metadata": {},
   "outputs": [
    {
     "name": "stdout",
     "output_type": "stream",
     "text": [
      "IncreaseDecreaseInOperatingLeaseLiabilities                256\n",
      "TemporaryEquityStockIssuedDuringPeriodSharesNewIssues      185\n",
      "StockIssuedDuringPeriodSharesWarrantsExercised             177\n",
      "StockIssuedDuringPeriodValueWarrantsExercised              161\n",
      "NonCashLeaseExpense                                        129\n",
      "                                                          ... \n",
      "CreditResolutionExpense                                      1\n",
      "DebtSecuritiesHeldToMaturityNetOfAllowanceForCreditLoss      1\n",
      "DebtSecuritiesAvailableForSalePurchasedButNotYetPaid         1\n",
      "CorporateDevelopmentCosts                                    1\n",
      "StockIssuedDuringPeriodValueStockBasedPayments               1\n",
      "Name: tag, Length: 98979, dtype: int64\n",
      "D    89499\n",
      "I    17039\n",
      "Name: iord, dtype: int64\n"
     ]
    }
   ],
   "source": [
    "print(tag_df.tag.value_counts())\n",
    "print(tag_df.iord.value_counts())"
   ]
  },
  {
   "cell_type": "code",
   "execution_count": 48,
   "metadata": {},
   "outputs": [
    {
     "data": {
      "text/plain": [
       "Increase Decrease In Operating Lease Liabilities                                                                                      132\n",
       "Temporary Equity, Stock Issued During Period, Shares, New Issues                                                                      107\n",
       "Stock Issued During Period, Shares, Warrants Exercised                                                                                103\n",
       "Series A Convertible Preferred Stock [Member]                                                                                          91\n",
       "Common Stock Value1                                                                                                                    90\n",
       "                                                                                                                                     ... \n",
       "Current portion of non-current credit facilities, notes and bonds received                                                              1\n",
       "Current credits and other receivables                                                                                                   1\n",
       "Contracted concessional assets                                                                                                          1\n",
       "Cash flows used in obtaining or losing control of subsidiaries and entities under equity method classified as investing activities      1\n",
       "Stock based payments                                                                                                                    1\n",
       "Name: tlabel, Length: 106105, dtype: int64"
      ]
     },
     "execution_count": 48,
     "metadata": {},
     "output_type": "execute_result"
    }
   ],
   "source": [
    "tag_df.tlabel.value_counts()"
   ]
  },
  {
   "cell_type": "code",
   "execution_count": 51,
   "metadata": {},
   "outputs": [
    {
     "data": {
      "text/plain": [
       "42"
      ]
     },
     "execution_count": 51,
     "metadata": {},
     "output_type": "execute_result"
    }
   ],
   "source": [
    "sub_num.form.nunique()"
   ]
  },
  {
   "cell_type": "code",
   "execution_count": 52,
   "metadata": {},
   "outputs": [
    {
     "data": {
      "text/plain": [
       "Index(['adsh', 'report', 'line', 'stmt', 'inpth', 'rfile', 'tag', 'version',\n",
       "       'plabel', 'negating'],\n",
       "      dtype='object')"
      ]
     },
     "execution_count": 52,
     "metadata": {},
     "output_type": "execute_result"
    }
   ],
   "source": [
    "pre_df.columns"
   ]
  },
  {
   "cell_type": "code",
   "execution_count": 62,
   "metadata": {},
   "outputs": [
    {
     "data": {
      "text/plain": [
       "8084"
      ]
     },
     "execution_count": 62,
     "metadata": {},
     "output_type": "execute_result"
    }
   ],
   "source": [
    "num_df.adsh.nunique()"
   ]
  },
  {
   "cell_type": "code",
   "execution_count": 63,
   "metadata": {},
   "outputs": [
    {
     "data": {
      "text/plain": [
       "98979"
      ]
     },
     "execution_count": 63,
     "metadata": {},
     "output_type": "execute_result"
    }
   ],
   "source": [
    "tag_df.tag.nunique()"
   ]
  },
  {
   "cell_type": "code",
   "execution_count": 73,
   "metadata": {},
   "outputs": [
    {
     "ename": "KeyboardInterrupt",
     "evalue": "",
     "output_type": "error",
     "traceback": [
      "\u001b[0;31m---------------------------------------------------------------------------\u001b[0m",
      "\u001b[0;31mKeyboardInterrupt\u001b[0m                         Traceback (most recent call last)",
      "Cell \u001b[0;32mIn[73], line 1\u001b[0m\n\u001b[0;32m----> 1\u001b[0m tag_df\u001b[39m.\u001b[39;49mtag\u001b[39m.\u001b[39;49mvalue_counts()\u001b[39m.\u001b[39;49mplot\u001b[39m.\u001b[39;49mbar()\n",
      "File \u001b[0;32m/opt/homebrew/Caskroom/mambaforge/base/envs/py-310/lib/python3.10/site-packages/pandas/plotting/_core.py:1159\u001b[0m, in \u001b[0;36mPlotAccessor.bar\u001b[0;34m(self, x, y, **kwargs)\u001b[0m\n\u001b[1;32m   1071\u001b[0m \u001b[39m@Appender\u001b[39m(\n\u001b[1;32m   1072\u001b[0m \u001b[39m    \u001b[39m\u001b[39m\"\"\"\u001b[39;00m\n\u001b[1;32m   1073\u001b[0m \u001b[39m    See Also\u001b[39;00m\n\u001b[0;32m   (...)\u001b[0m\n\u001b[1;32m   1148\u001b[0m \u001b[39m@Appender\u001b[39m(_bar_or_line_doc)\n\u001b[1;32m   1149\u001b[0m \u001b[39mdef\u001b[39;00m \u001b[39mbar\u001b[39m(\u001b[39mself\u001b[39m, x\u001b[39m=\u001b[39m\u001b[39mNone\u001b[39;00m, y\u001b[39m=\u001b[39m\u001b[39mNone\u001b[39;00m, \u001b[39m*\u001b[39m\u001b[39m*\u001b[39mkwargs) \u001b[39m-\u001b[39m\u001b[39m>\u001b[39m PlotAccessor:\n\u001b[1;32m   1150\u001b[0m \u001b[39m    \u001b[39m\u001b[39m\"\"\"\u001b[39;00m\n\u001b[1;32m   1151\u001b[0m \u001b[39m    Vertical bar plot.\u001b[39;00m\n\u001b[1;32m   1152\u001b[0m \n\u001b[0;32m   (...)\u001b[0m\n\u001b[1;32m   1157\u001b[0m \u001b[39m    other axis represents a measured value.\u001b[39;00m\n\u001b[1;32m   1158\u001b[0m \u001b[39m    \"\"\"\u001b[39;00m\n\u001b[0;32m-> 1159\u001b[0m     \u001b[39mreturn\u001b[39;00m \u001b[39mself\u001b[39;49m(kind\u001b[39m=\u001b[39;49m\u001b[39m\"\u001b[39;49m\u001b[39mbar\u001b[39;49m\u001b[39m\"\u001b[39;49m, x\u001b[39m=\u001b[39;49mx, y\u001b[39m=\u001b[39;49my, \u001b[39m*\u001b[39;49m\u001b[39m*\u001b[39;49mkwargs)\n",
      "File \u001b[0;32m/opt/homebrew/Caskroom/mambaforge/base/envs/py-310/lib/python3.10/site-packages/pandas/plotting/_core.py:1000\u001b[0m, in \u001b[0;36mPlotAccessor.__call__\u001b[0;34m(self, *args, **kwargs)\u001b[0m\n\u001b[1;32m    997\u001b[0m             label_name \u001b[39m=\u001b[39m label_kw \u001b[39mor\u001b[39;00m data\u001b[39m.\u001b[39mcolumns\n\u001b[1;32m    998\u001b[0m             data\u001b[39m.\u001b[39mcolumns \u001b[39m=\u001b[39m label_name\n\u001b[0;32m-> 1000\u001b[0m \u001b[39mreturn\u001b[39;00m plot_backend\u001b[39m.\u001b[39;49mplot(data, kind\u001b[39m=\u001b[39;49mkind, \u001b[39m*\u001b[39;49m\u001b[39m*\u001b[39;49mkwargs)\n",
      "File \u001b[0;32m/opt/homebrew/Caskroom/mambaforge/base/envs/py-310/lib/python3.10/site-packages/pandas/plotting/_matplotlib/__init__.py:71\u001b[0m, in \u001b[0;36mplot\u001b[0;34m(data, kind, **kwargs)\u001b[0m\n\u001b[1;32m     69\u001b[0m         kwargs[\u001b[39m\"\u001b[39m\u001b[39max\u001b[39m\u001b[39m\"\u001b[39m] \u001b[39m=\u001b[39m \u001b[39mgetattr\u001b[39m(ax, \u001b[39m\"\u001b[39m\u001b[39mleft_ax\u001b[39m\u001b[39m\"\u001b[39m, ax)\n\u001b[1;32m     70\u001b[0m plot_obj \u001b[39m=\u001b[39m PLOT_CLASSES[kind](data, \u001b[39m*\u001b[39m\u001b[39m*\u001b[39mkwargs)\n\u001b[0;32m---> 71\u001b[0m plot_obj\u001b[39m.\u001b[39;49mgenerate()\n\u001b[1;32m     72\u001b[0m plot_obj\u001b[39m.\u001b[39mdraw()\n\u001b[1;32m     73\u001b[0m \u001b[39mreturn\u001b[39;00m plot_obj\u001b[39m.\u001b[39mresult\n",
      "File \u001b[0;32m/opt/homebrew/Caskroom/mambaforge/base/envs/py-310/lib/python3.10/site-packages/pandas/plotting/_matplotlib/core.py:452\u001b[0m, in \u001b[0;36mMPLPlot.generate\u001b[0;34m(self)\u001b[0m\n\u001b[1;32m    450\u001b[0m \u001b[39mself\u001b[39m\u001b[39m.\u001b[39m_compute_plot_data()\n\u001b[1;32m    451\u001b[0m \u001b[39mself\u001b[39m\u001b[39m.\u001b[39m_setup_subplots()\n\u001b[0;32m--> 452\u001b[0m \u001b[39mself\u001b[39;49m\u001b[39m.\u001b[39;49m_make_plot()\n\u001b[1;32m    453\u001b[0m \u001b[39mself\u001b[39m\u001b[39m.\u001b[39m_add_table()\n\u001b[1;32m    454\u001b[0m \u001b[39mself\u001b[39m\u001b[39m.\u001b[39m_make_legend()\n",
      "File \u001b[0;32m/opt/homebrew/Caskroom/mambaforge/base/envs/py-310/lib/python3.10/site-packages/pandas/plotting/_matplotlib/core.py:1721\u001b[0m, in \u001b[0;36mBarPlot._make_plot\u001b[0;34m(self)\u001b[0m\n\u001b[1;32m   1719\u001b[0m \u001b[39melse\u001b[39;00m:\n\u001b[1;32m   1720\u001b[0m     w \u001b[39m=\u001b[39m \u001b[39mself\u001b[39m\u001b[39m.\u001b[39mbar_width \u001b[39m/\u001b[39m K\n\u001b[0;32m-> 1721\u001b[0m     rect \u001b[39m=\u001b[39m \u001b[39mself\u001b[39;49m\u001b[39m.\u001b[39;49m_plot(\n\u001b[1;32m   1722\u001b[0m         ax,\n\u001b[1;32m   1723\u001b[0m         \u001b[39mself\u001b[39;49m\u001b[39m.\u001b[39;49max_pos \u001b[39m+\u001b[39;49m (i \u001b[39m+\u001b[39;49m \u001b[39m0.5\u001b[39;49m) \u001b[39m*\u001b[39;49m w,\n\u001b[1;32m   1724\u001b[0m         y,\n\u001b[1;32m   1725\u001b[0m         w,\n\u001b[1;32m   1726\u001b[0m         start\u001b[39m=\u001b[39;49mstart,\n\u001b[1;32m   1727\u001b[0m         label\u001b[39m=\u001b[39;49mlabel,\n\u001b[1;32m   1728\u001b[0m         log\u001b[39m=\u001b[39;49m\u001b[39mself\u001b[39;49m\u001b[39m.\u001b[39;49mlog,\n\u001b[1;32m   1729\u001b[0m         \u001b[39m*\u001b[39;49m\u001b[39m*\u001b[39;49mkwds,\n\u001b[1;32m   1730\u001b[0m     )\n\u001b[1;32m   1731\u001b[0m \u001b[39mself\u001b[39m\u001b[39m.\u001b[39m_append_legend_handles_labels(rect, label)\n",
      "File \u001b[0;32m/opt/homebrew/Caskroom/mambaforge/base/envs/py-310/lib/python3.10/site-packages/pandas/plotting/_matplotlib/core.py:1651\u001b[0m, in \u001b[0;36mBarPlot._plot\u001b[0;34m(cls, ax, x, y, w, start, log, **kwds)\u001b[0m\n\u001b[1;32m   1647\u001b[0m \u001b[39m@classmethod\u001b[39m\n\u001b[1;32m   1648\u001b[0m \u001b[39mdef\u001b[39;00m \u001b[39m_plot\u001b[39m(  \u001b[39m# type: ignore[override]\u001b[39;00m\n\u001b[1;32m   1649\u001b[0m     \u001b[39mcls\u001b[39m, ax: Axes, x, y, w, start\u001b[39m=\u001b[39m\u001b[39m0\u001b[39m, log\u001b[39m=\u001b[39m\u001b[39mFalse\u001b[39;00m, \u001b[39m*\u001b[39m\u001b[39m*\u001b[39mkwds\n\u001b[1;32m   1650\u001b[0m ):\n\u001b[0;32m-> 1651\u001b[0m     \u001b[39mreturn\u001b[39;00m ax\u001b[39m.\u001b[39;49mbar(x, y, w, bottom\u001b[39m=\u001b[39;49mstart, log\u001b[39m=\u001b[39;49mlog, \u001b[39m*\u001b[39;49m\u001b[39m*\u001b[39;49mkwds)\n",
      "File \u001b[0;32m/opt/homebrew/Caskroom/mambaforge/base/envs/py-310/lib/python3.10/site-packages/matplotlib/__init__.py:1433\u001b[0m, in \u001b[0;36m_preprocess_data.<locals>.inner\u001b[0;34m(ax, data, *args, **kwargs)\u001b[0m\n\u001b[1;32m   1430\u001b[0m \u001b[39m@functools\u001b[39m\u001b[39m.\u001b[39mwraps(func)\n\u001b[1;32m   1431\u001b[0m \u001b[39mdef\u001b[39;00m \u001b[39minner\u001b[39m(ax, \u001b[39m*\u001b[39margs, data\u001b[39m=\u001b[39m\u001b[39mNone\u001b[39;00m, \u001b[39m*\u001b[39m\u001b[39m*\u001b[39mkwargs):\n\u001b[1;32m   1432\u001b[0m     \u001b[39mif\u001b[39;00m data \u001b[39mis\u001b[39;00m \u001b[39mNone\u001b[39;00m:\n\u001b[0;32m-> 1433\u001b[0m         \u001b[39mreturn\u001b[39;00m func(ax, \u001b[39m*\u001b[39;49m\u001b[39mmap\u001b[39;49m(sanitize_sequence, args), \u001b[39m*\u001b[39;49m\u001b[39m*\u001b[39;49mkwargs)\n\u001b[1;32m   1435\u001b[0m     bound \u001b[39m=\u001b[39m new_sig\u001b[39m.\u001b[39mbind(ax, \u001b[39m*\u001b[39margs, \u001b[39m*\u001b[39m\u001b[39m*\u001b[39mkwargs)\n\u001b[1;32m   1436\u001b[0m     auto_label \u001b[39m=\u001b[39m (bound\u001b[39m.\u001b[39marguments\u001b[39m.\u001b[39mget(label_namer)\n\u001b[1;32m   1437\u001b[0m                   \u001b[39mor\u001b[39;00m bound\u001b[39m.\u001b[39mkwargs\u001b[39m.\u001b[39mget(label_namer))\n",
      "File \u001b[0;32m/opt/homebrew/Caskroom/mambaforge/base/envs/py-310/lib/python3.10/site-packages/matplotlib/axes/_axes.py:2460\u001b[0m, in \u001b[0;36mAxes.bar\u001b[0;34m(self, x, height, width, bottom, align, **kwargs)\u001b[0m\n\u001b[1;32m   2457\u001b[0m args \u001b[39m=\u001b[39m \u001b[39mzip\u001b[39m(left, bottom, width, height, color, edgecolor, linewidth,\n\u001b[1;32m   2458\u001b[0m            hatch, patch_labels)\n\u001b[1;32m   2459\u001b[0m \u001b[39mfor\u001b[39;00m l, b, w, h, c, e, lw, htch, lbl \u001b[39min\u001b[39;00m args:\n\u001b[0;32m-> 2460\u001b[0m     r \u001b[39m=\u001b[39m mpatches\u001b[39m.\u001b[39;49mRectangle(\n\u001b[1;32m   2461\u001b[0m         xy\u001b[39m=\u001b[39;49m(l, b), width\u001b[39m=\u001b[39;49mw, height\u001b[39m=\u001b[39;49mh,\n\u001b[1;32m   2462\u001b[0m         facecolor\u001b[39m=\u001b[39;49mc,\n\u001b[1;32m   2463\u001b[0m         edgecolor\u001b[39m=\u001b[39;49me,\n\u001b[1;32m   2464\u001b[0m         linewidth\u001b[39m=\u001b[39;49mlw,\n\u001b[1;32m   2465\u001b[0m         label\u001b[39m=\u001b[39;49mlbl,\n\u001b[1;32m   2466\u001b[0m         hatch\u001b[39m=\u001b[39;49mhtch,\n\u001b[1;32m   2467\u001b[0m         )\n\u001b[1;32m   2468\u001b[0m     r\u001b[39m.\u001b[39m_internal_update(kwargs)\n\u001b[1;32m   2469\u001b[0m     r\u001b[39m.\u001b[39mget_path()\u001b[39m.\u001b[39m_interpolation_steps \u001b[39m=\u001b[39m \u001b[39m100\u001b[39m\n",
      "File \u001b[0;32m/opt/homebrew/Caskroom/mambaforge/base/envs/py-310/lib/python3.10/site-packages/matplotlib/_api/deprecation.py:454\u001b[0m, in \u001b[0;36mmake_keyword_only.<locals>.wrapper\u001b[0;34m(*args, **kwargs)\u001b[0m\n\u001b[1;32m    448\u001b[0m \u001b[39mif\u001b[39;00m \u001b[39mlen\u001b[39m(args) \u001b[39m>\u001b[39m name_idx:\n\u001b[1;32m    449\u001b[0m     warn_deprecated(\n\u001b[1;32m    450\u001b[0m         since, message\u001b[39m=\u001b[39m\u001b[39m\"\u001b[39m\u001b[39mPassing the \u001b[39m\u001b[39m%(name)s\u001b[39;00m\u001b[39m \u001b[39m\u001b[39m%(obj_type)s\u001b[39;00m\u001b[39m \u001b[39m\u001b[39m\"\u001b[39m\n\u001b[1;32m    451\u001b[0m         \u001b[39m\"\u001b[39m\u001b[39mpositionally is deprecated since Matplotlib \u001b[39m\u001b[39m%(since)s\u001b[39;00m\u001b[39m; the \u001b[39m\u001b[39m\"\u001b[39m\n\u001b[1;32m    452\u001b[0m         \u001b[39m\"\u001b[39m\u001b[39mparameter will become keyword-only \u001b[39m\u001b[39m%(removal)s\u001b[39;00m\u001b[39m.\u001b[39m\u001b[39m\"\u001b[39m,\n\u001b[1;32m    453\u001b[0m         name\u001b[39m=\u001b[39mname, obj_type\u001b[39m=\u001b[39m\u001b[39mf\u001b[39m\u001b[39m\"\u001b[39m\u001b[39mparameter of \u001b[39m\u001b[39m{\u001b[39;00mfunc\u001b[39m.\u001b[39m\u001b[39m__name__\u001b[39m\u001b[39m}\u001b[39;00m\u001b[39m()\u001b[39m\u001b[39m\"\u001b[39m)\n\u001b[0;32m--> 454\u001b[0m \u001b[39mreturn\u001b[39;00m func(\u001b[39m*\u001b[39;49margs, \u001b[39m*\u001b[39;49m\u001b[39m*\u001b[39;49mkwargs)\n",
      "File \u001b[0;32m/opt/homebrew/Caskroom/mambaforge/base/envs/py-310/lib/python3.10/site-packages/matplotlib/patches.py:712\u001b[0m, in \u001b[0;36mRectangle.__init__\u001b[0;34m(self, xy, width, height, angle, rotation_point, **kwargs)\u001b[0m\n\u001b[1;32m    687\u001b[0m \u001b[39m@_docstring\u001b[39m\u001b[39m.\u001b[39mdedent_interpd\n\u001b[1;32m    688\u001b[0m \u001b[39m@_api\u001b[39m\u001b[39m.\u001b[39mmake_keyword_only(\u001b[39m\"\u001b[39m\u001b[39m3.6\u001b[39m\u001b[39m\"\u001b[39m, name\u001b[39m=\u001b[39m\u001b[39m\"\u001b[39m\u001b[39mangle\u001b[39m\u001b[39m\"\u001b[39m)\n\u001b[1;32m    689\u001b[0m \u001b[39mdef\u001b[39;00m \u001b[39m__init__\u001b[39m(\u001b[39mself\u001b[39m, xy, width, height, angle\u001b[39m=\u001b[39m\u001b[39m0.0\u001b[39m, \u001b[39m*\u001b[39m,\n\u001b[1;32m    690\u001b[0m              rotation_point\u001b[39m=\u001b[39m\u001b[39m'\u001b[39m\u001b[39mxy\u001b[39m\u001b[39m'\u001b[39m, \u001b[39m*\u001b[39m\u001b[39m*\u001b[39mkwargs):\n\u001b[1;32m    691\u001b[0m \u001b[39m    \u001b[39m\u001b[39m\"\"\"\u001b[39;00m\n\u001b[1;32m    692\u001b[0m \u001b[39m    Parameters\u001b[39;00m\n\u001b[1;32m    693\u001b[0m \u001b[39m    ----------\u001b[39;00m\n\u001b[0;32m   (...)\u001b[0m\n\u001b[1;32m    710\u001b[0m \u001b[39m        %(Patch:kwdoc)s\u001b[39;00m\n\u001b[1;32m    711\u001b[0m \u001b[39m    \"\"\"\u001b[39;00m\n\u001b[0;32m--> 712\u001b[0m     \u001b[39msuper\u001b[39;49m()\u001b[39m.\u001b[39;49m\u001b[39m__init__\u001b[39;49m(\u001b[39m*\u001b[39;49m\u001b[39m*\u001b[39;49mkwargs)\n\u001b[1;32m    713\u001b[0m     \u001b[39mself\u001b[39m\u001b[39m.\u001b[39m_x0 \u001b[39m=\u001b[39m xy[\u001b[39m0\u001b[39m]\n\u001b[1;32m    714\u001b[0m     \u001b[39mself\u001b[39m\u001b[39m.\u001b[39m_y0 \u001b[39m=\u001b[39m xy[\u001b[39m1\u001b[39m]\n",
      "File \u001b[0;32m/opt/homebrew/Caskroom/mambaforge/base/envs/py-310/lib/python3.10/site-packages/matplotlib/_api/deprecation.py:454\u001b[0m, in \u001b[0;36mmake_keyword_only.<locals>.wrapper\u001b[0;34m(*args, **kwargs)\u001b[0m\n\u001b[1;32m    448\u001b[0m \u001b[39mif\u001b[39;00m \u001b[39mlen\u001b[39m(args) \u001b[39m>\u001b[39m name_idx:\n\u001b[1;32m    449\u001b[0m     warn_deprecated(\n\u001b[1;32m    450\u001b[0m         since, message\u001b[39m=\u001b[39m\u001b[39m\"\u001b[39m\u001b[39mPassing the \u001b[39m\u001b[39m%(name)s\u001b[39;00m\u001b[39m \u001b[39m\u001b[39m%(obj_type)s\u001b[39;00m\u001b[39m \u001b[39m\u001b[39m\"\u001b[39m\n\u001b[1;32m    451\u001b[0m         \u001b[39m\"\u001b[39m\u001b[39mpositionally is deprecated since Matplotlib \u001b[39m\u001b[39m%(since)s\u001b[39;00m\u001b[39m; the \u001b[39m\u001b[39m\"\u001b[39m\n\u001b[1;32m    452\u001b[0m         \u001b[39m\"\u001b[39m\u001b[39mparameter will become keyword-only \u001b[39m\u001b[39m%(removal)s\u001b[39;00m\u001b[39m.\u001b[39m\u001b[39m\"\u001b[39m,\n\u001b[1;32m    453\u001b[0m         name\u001b[39m=\u001b[39mname, obj_type\u001b[39m=\u001b[39m\u001b[39mf\u001b[39m\u001b[39m\"\u001b[39m\u001b[39mparameter of \u001b[39m\u001b[39m{\u001b[39;00mfunc\u001b[39m.\u001b[39m\u001b[39m__name__\u001b[39m\u001b[39m}\u001b[39;00m\u001b[39m()\u001b[39m\u001b[39m\"\u001b[39m)\n\u001b[0;32m--> 454\u001b[0m \u001b[39mreturn\u001b[39;00m func(\u001b[39m*\u001b[39;49margs, \u001b[39m*\u001b[39;49m\u001b[39m*\u001b[39;49mkwargs)\n",
      "File \u001b[0;32m/opt/homebrew/Caskroom/mambaforge/base/envs/py-310/lib/python3.10/site-packages/matplotlib/patches.py:93\u001b[0m, in \u001b[0;36mPatch.__init__\u001b[0;34m(self, edgecolor, facecolor, color, linewidth, linestyle, antialiased, hatch, fill, capstyle, joinstyle, **kwargs)\u001b[0m\n\u001b[1;32m     91\u001b[0m \u001b[39mself\u001b[39m\u001b[39m.\u001b[39mset_linewidth(linewidth)\n\u001b[1;32m     92\u001b[0m \u001b[39mself\u001b[39m\u001b[39m.\u001b[39mset_antialiased(antialiased)\n\u001b[0;32m---> 93\u001b[0m \u001b[39mself\u001b[39;49m\u001b[39m.\u001b[39;49mset_hatch(hatch)\n\u001b[1;32m     94\u001b[0m \u001b[39mself\u001b[39m\u001b[39m.\u001b[39mset_capstyle(capstyle)\n\u001b[1;32m     95\u001b[0m \u001b[39mself\u001b[39m\u001b[39m.\u001b[39mset_joinstyle(joinstyle)\n",
      "File \u001b[0;32m/opt/homebrew/Caskroom/mambaforge/base/envs/py-310/lib/python3.10/site-packages/matplotlib/patches.py:523\u001b[0m, in \u001b[0;36mPatch.set_hatch\u001b[0;34m(self, hatch)\u001b[0m\n\u001b[1;32m    495\u001b[0m \u001b[39m\u001b[39m\u001b[39mr\u001b[39m\u001b[39m\"\"\"\u001b[39;00m\n\u001b[1;32m    496\u001b[0m \u001b[39mSet the hatching pattern.\u001b[39;00m\n\u001b[1;32m    497\u001b[0m \n\u001b[0;32m   (...)\u001b[0m\n\u001b[1;32m    520\u001b[0m \u001b[39mhatch : {'/', '\\\\', '|', '-', '+', 'x', 'o', 'O', '.', '*'}\u001b[39;00m\n\u001b[1;32m    521\u001b[0m \u001b[39m\"\"\"\u001b[39;00m\n\u001b[1;32m    522\u001b[0m \u001b[39m# Use validate_hatch(list) after deprecation.\u001b[39;00m\n\u001b[0;32m--> 523\u001b[0m mhatch\u001b[39m.\u001b[39;49m_validate_hatch_pattern(hatch)\n\u001b[1;32m    524\u001b[0m \u001b[39mself\u001b[39m\u001b[39m.\u001b[39m_hatch \u001b[39m=\u001b[39m hatch\n\u001b[1;32m    525\u001b[0m \u001b[39mself\u001b[39m\u001b[39m.\u001b[39mstale \u001b[39m=\u001b[39m \u001b[39mTrue\u001b[39;00m\n",
      "File \u001b[0;32m/opt/homebrew/Caskroom/mambaforge/base/envs/py-310/lib/python3.10/site-packages/matplotlib/hatch.py:183\u001b[0m, in \u001b[0;36m_validate_hatch_pattern\u001b[0;34m(hatch)\u001b[0m\n\u001b[1;32m    182\u001b[0m \u001b[39mdef\u001b[39;00m \u001b[39m_validate_hatch_pattern\u001b[39m(hatch):\n\u001b[0;32m--> 183\u001b[0m     valid_hatch_patterns \u001b[39m=\u001b[39m \u001b[39mset\u001b[39;49m(\u001b[39mr\u001b[39;49m\u001b[39m'\u001b[39;49m\u001b[39m-+|/\u001b[39;49m\u001b[39m\\\u001b[39;49m\u001b[39mxXoO.*\u001b[39;49m\u001b[39m'\u001b[39;49m)\n\u001b[1;32m    184\u001b[0m     \u001b[39mif\u001b[39;00m hatch \u001b[39mis\u001b[39;00m \u001b[39mnot\u001b[39;00m \u001b[39mNone\u001b[39;00m:\n\u001b[1;32m    185\u001b[0m         invalids \u001b[39m=\u001b[39m \u001b[39mset\u001b[39m(hatch)\u001b[39m.\u001b[39mdifference(valid_hatch_patterns)\n",
      "\u001b[0;31mKeyboardInterrupt\u001b[0m: "
     ]
    },
    {
     "data": {
      "image/png": "[encoded data removed]",
      "text/plain": [
       "<Figure size 640x480 with 1 Axes>"
      ]
     },
     "metadata": {},
     "output_type": "display_data"
    }
   ],
   "source": [
    "tag_df.tag.value_counts().plot.bar(kind=\"bar\")"
   ]
  },
  {
   "cell_type": "code",
   "execution_count": 4,
   "metadata": {},
   "outputs": [
    {
     "name": "stdout",
     "output_type": "stream",
     "text": [
      "env: MAGICK_HOME=/opt/homebrew/opt/imagemagick\n"
     ]
    }
   ],
   "source": [
    "%env MAGICK_HOME=/opt/homebrew/opt/imagemagick"
   ]
  },
  {
   "cell_type": "code",
   "execution_count": 5,
   "metadata": {},
   "outputs": [
    {
     "data": {
      "text/plain": [
       "'/opt/homebrew/opt/imagemagick'"
      ]
     },
     "execution_count": 5,
     "metadata": {},
     "output_type": "execute_result"
    }
   ],
   "source": [
    "import os\n",
    "os.environ.get(\"MAGICK_HOME\")"
   ]
  },
  {
   "cell_type": "code",
   "execution_count": 8,
   "metadata": {},
   "outputs": [
    {
     "ename": "",
     "evalue": "",
     "output_type": "error",
     "traceback": [
      "\u001b[1;31mCanceled future for execute_request message before replies were done"
     ]
    },
    {
     "ename": "",
     "evalue": "",
     "output_type": "error",
     "traceback": [
      "\u001b[1;31mThe Kernel crashed while executing code in the the current cell or a previous cell. Please review the code in the cell(s) to identify a possible cause of the failure. Click <a href='https://aka.ms/vscodeJupyterKernelCrash'>here</a> for more info. View Jupyter <a href='command:jupyter.viewOutput'>log</a> for further details."
     ]
    }
   ],
   "source": [
    "from PIL import Image\n",
    "from notebooks.sec_exploration.scratch import convert_to_tiff\n",
    "aig_report = \"aig-20230329\"\n",
    "pdf_path = data_dir / f\"{aig_report}.pdf\"\n",
    "tif_path = data_dir / f\"{aig_report}.tif\"\n",
    "\n",
    "convert_to_tiff(pdf_path, tif_path)\n"
   ]
  },
  {
   "cell_type": "code",
   "execution_count": null,
   "metadata": {},
   "outputs": [],
   "source": []
  }
 ],
 "metadata": {
  "kernelspec": {
   "display_name": "py-310",
   "language": "python",
   "name": "python3"
  },
  "language_info": {
   "codemirror_mode": {
    "name": "ipython",
    "version": 3
   },
   "file_extension": ".py",
   "mimetype": "text/x-python",
   "name": "python",
   "nbconvert_exporter": "python",
   "pygments_lexer": "ipython3",
   "version": "3.10.9"
  },
  "orig_nbformat": 4
 },
 "nbformat": 4,
 "nbformat_minor": 2
}
