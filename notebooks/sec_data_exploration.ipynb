{
 "cells": [
  {
   "cell_type": "code",
   "execution_count": 2,
   "metadata": {},
   "outputs": [],
   "source": [
    "%load_ext autoreload\n",
    "%autoreload 2"
   ]
  },
  {
   "cell_type": "code",
   "execution_count": 16,
   "metadata": {},
   "outputs": [],
   "source": [
    "import pandas as pd\n",
    "import numpy as np\n",
    "from pathlib import Path\n",
    "\n",
    "# contains the dera data from https://www.sec.gov/dera/data/financial-statement-data-sets\n",
    "data_dir = Path(\"../data/2023q1\")\n",
    "num_df = pd.read_csv(data_dir / \"num.txt\", sep=\"\\t\")\n",
    "sub_df = pd.read_csv(data_dir / \"sub.txt\", sep=\"\\t\")\n",
    "pre_df = pd.read_csv(data_dir / \"pre.txt\", sep=\"\\t\")\n",
    "tag_df = pd.read_csv(data_dir / \"tag.txt\", sep=\"\\t\")"
   ]
  },
  {
   "cell_type": "code",
   "execution_count": 5,
   "metadata": {},
   "outputs": [
    {
     "name": "stdout",
     "output_type": "stream",
     "text": [
      "(3293693, 9)\n"
     ]
    },
    {
     "data": {
      "text/plain": [
       "Index(['adsh', 'tag', 'version', 'coreg', 'ddate', 'qtrs', 'uom', 'value',\n",
       "       'footnote'],\n",
       "      dtype='object')"
      ]
     },
     "execution_count": 5,
     "metadata": {},
     "output_type": "execute_result"
    }
   ],
   "source": [
    "print(num_df.shape)\n",
    "num_df.columns"
   ]
  },
  {
   "cell_type": "code",
   "execution_count": 24,
   "metadata": {},
   "outputs": [
    {
     "data": {
      "text/plain": [
       "Index(['adsh', 'cik', 'name', 'sic', 'countryba', 'stprba', 'cityba', 'zipba',\n",
       "       'bas1', 'bas2', 'baph', 'countryma', 'stprma', 'cityma', 'zipma',\n",
       "       'mas1', 'mas2', 'countryinc', 'stprinc', 'ein', 'former', 'changed',\n",
       "       'afs', 'wksi', 'fye', 'form', 'period', 'fy', 'fp', 'filed', 'accepted',\n",
       "       'prevrpt', 'detail', 'instance', 'nciks', 'aciks'],\n",
       "      dtype='object')"
      ]
     },
     "execution_count": 24,
     "metadata": {},
     "output_type": "execute_result"
    }
   ],
   "source": [
    "sub_df.columns"
   ]
  },
  {
   "cell_type": "code",
   "execution_count": 25,
   "metadata": {},
   "outputs": [
    {
     "data": {
      "text/plain": [
       "Index(['adsh', 'report', 'line', 'stmt', 'inpth', 'rfile', 'tag', 'version',\n",
       "       'plabel', 'negating'],\n",
       "      dtype='object')"
      ]
     },
     "execution_count": 25,
     "metadata": {},
     "output_type": "execute_result"
    }
   ],
   "source": [
    "pre_df.columns"
   ]
  },
  {
   "cell_type": "code",
   "execution_count": 26,
   "metadata": {},
   "outputs": [
    {
     "data": {
      "text/plain": [
       "Index(['tag', 'version', 'custom', 'abstract', 'datatype', 'iord', 'crdr',\n",
       "       'tlabel', 'doc'],\n",
       "      dtype='object')"
      ]
     },
     "execution_count": 26,
     "metadata": {},
     "output_type": "execute_result"
    }
   ],
   "source": [
    "tag_df.columns"
   ]
  },
  {
   "cell_type": "code",
   "execution_count": 6,
   "metadata": {},
   "outputs": [
    {
     "data": {
      "text/plain": [
       "8084"
      ]
     },
     "execution_count": 6,
     "metadata": {},
     "output_type": "execute_result"
    }
   ],
   "source": [
    "num_df.adsh.nunique()"
   ]
  },
  {
   "cell_type": "code",
   "execution_count": 7,
   "metadata": {},
   "outputs": [
    {
     "data": {
      "text/plain": [
       "'0001193125-23-031180'"
      ]
     },
     "execution_count": 7,
     "metadata": {},
     "output_type": "execute_result"
    }
   ],
   "source": [
    "num_df.iloc[0].adsh"
   ]
  },
  {
   "cell_type": "code",
   "execution_count": 13,
   "metadata": {},
   "outputs": [
    {
     "data": {
      "text/plain": [
       "1070304    1\n",
       "Name: cik, dtype: int64"
      ]
     },
     "execution_count": 13,
     "metadata": {},
     "output_type": "execute_result"
    }
   ],
   "source": [
    "example_adsh = \"0001193125-23-031180\"\n",
    "sub_df[sub_df.adsh == example_adsh].cik.value_counts()"
   ]
  },
  {
   "cell_type": "code",
   "execution_count": 14,
   "metadata": {},
   "outputs": [
    {
     "data": {
      "text/plain": [
       "d307748d6k_htm.xml    1\n",
       "Name: instance, dtype: int64"
      ]
     },
     "execution_count": 14,
     "metadata": {},
     "output_type": "execute_result"
    }
   ],
   "source": [
    "cik = \"1070304\"\n",
    "sub_df[sub_df.adsh == example_adsh].instance.value_counts()"
   ]
  },
  {
   "cell_type": "code",
   "execution_count": 18,
   "metadata": {},
   "outputs": [
    {
     "data": {
      "text/html": [
       "<div>\n",
       "<style scoped>\n",
       "    .dataframe tbody tr th:only-of-type {\n",
       "        vertical-align: middle;\n",
       "    }\n",
       "\n",
       "    .dataframe tbody tr th {\n",
       "        vertical-align: top;\n",
       "    }\n",
       "\n",
       "    .dataframe thead th {\n",
       "        text-align: right;\n",
       "    }\n",
       "</style>\n",
       "<table border=\"1\" class=\"dataframe\">\n",
       "  <thead>\n",
       "    <tr style=\"text-align: right;\">\n",
       "      <th></th>\n",
       "      <th>adsh</th>\n",
       "      <th>report</th>\n",
       "      <th>line</th>\n",
       "      <th>stmt</th>\n",
       "      <th>inpth</th>\n",
       "      <th>rfile</th>\n",
       "      <th>tag</th>\n",
       "      <th>version</th>\n",
       "      <th>plabel</th>\n",
       "      <th>negating</th>\n",
       "    </tr>\n",
       "  </thead>\n",
       "  <tbody>\n",
       "    <tr>\n",
       "      <th>0</th>\n",
       "      <td>0001023459-23-000011</td>\n",
       "      <td>2</td>\n",
       "      <td>10</td>\n",
       "      <td>BS</td>\n",
       "      <td>0</td>\n",
       "      <td>H</td>\n",
       "      <td>AccountsReceivableNetCurrent</td>\n",
       "      <td>us-gaap/2021</td>\n",
       "      <td>Accounts receivable, net of allowance for doub...</td>\n",
       "      <td>0</td>\n",
       "    </tr>\n",
       "  </tbody>\n",
       "</table>\n",
       "</div>"
      ],
      "text/plain": [
       "                   adsh  report  line stmt  inpth rfile  \\\n",
       "0  0001023459-23-000011       2    10   BS      0     H   \n",
       "\n",
       "                            tag       version  \\\n",
       "0  AccountsReceivableNetCurrent  us-gaap/2021   \n",
       "\n",
       "                                              plabel  negating  \n",
       "0  Accounts receivable, net of allowance for doub...         0  "
      ]
     },
     "execution_count": 18,
     "metadata": {},
     "output_type": "execute_result"
    }
   ],
   "source": [
    "# url_base = \"http://www.sec.gov/Archives/edgar/data/\"\n",
    "pre_df.head(1)"
   ]
  },
  {
   "cell_type": "code",
   "execution_count": 20,
   "metadata": {},
   "outputs": [
    {
     "data": {
      "text/plain": [
       "Index(['adsh', 'cik', 'name', 'sic', 'countryba', 'stprba', 'cityba', 'zipba',\n",
       "       'bas1', 'bas2', 'baph', 'countryma', 'stprma', 'cityma', 'zipma',\n",
       "       'mas1', 'mas2', 'countryinc', 'stprinc', 'ein', 'former', 'changed',\n",
       "       'afs', 'wksi', 'fye', 'form', 'period', 'fy', 'fp', 'filed', 'accepted',\n",
       "       'prevrpt', 'detail', 'instance', 'nciks', 'aciks'],\n",
       "      dtype='object')"
      ]
     },
     "execution_count": 20,
     "metadata": {},
     "output_type": "execute_result"
    }
   ],
   "source": [
    "sub_df.columns"
   ]
  },
  {
   "cell_type": "code",
   "execution_count": 22,
   "metadata": {},
   "outputs": [
    {
     "data": {
      "text/html": [
       "<div>\n",
       "<style scoped>\n",
       "    .dataframe tbody tr th:only-of-type {\n",
       "        vertical-align: middle;\n",
       "    }\n",
       "\n",
       "    .dataframe tbody tr th {\n",
       "        vertical-align: top;\n",
       "    }\n",
       "\n",
       "    .dataframe thead th {\n",
       "        text-align: right;\n",
       "    }\n",
       "</style>\n",
       "<table border=\"1\" class=\"dataframe\">\n",
       "  <thead>\n",
       "    <tr style=\"text-align: right;\">\n",
       "      <th></th>\n",
       "      <th>adsh</th>\n",
       "      <th>name</th>\n",
       "      <th>cik</th>\n",
       "      <th>aciks</th>\n",
       "      <th>instance</th>\n",
       "    </tr>\n",
       "  </thead>\n",
       "  <tbody>\n",
       "    <tr>\n",
       "      <th>0</th>\n",
       "      <td>0000004457-23-000026</td>\n",
       "      <td>U-HAUL HOLDING CO /NV/</td>\n",
       "      <td>4457</td>\n",
       "      <td>NaN</td>\n",
       "      <td>uhal-20230323_htm.xml</td>\n",
       "    </tr>\n",
       "  </tbody>\n",
       "</table>\n",
       "</div>"
      ],
      "text/plain": [
       "                   adsh                    name   cik aciks  \\\n",
       "0  0000004457-23-000026  U-HAUL HOLDING CO /NV/  4457   NaN   \n",
       "\n",
       "                instance  \n",
       "0  uhal-20230323_htm.xml  "
      ]
     },
     "execution_count": 22,
     "metadata": {},
     "output_type": "execute_result"
    }
   ],
   "source": [
    "sub_df.head(1)[[\"adsh\", \"name\", \"cik\", \"aciks\", \"instance\"]]"
   ]
  },
  {
   "cell_type": "code",
   "execution_count": 23,
   "metadata": {},
   "outputs": [
    {
     "data": {
      "text/html": [
       "<div>\n",
       "<style scoped>\n",
       "    .dataframe tbody tr th:only-of-type {\n",
       "        vertical-align: middle;\n",
       "    }\n",
       "\n",
       "    .dataframe tbody tr th {\n",
       "        vertical-align: top;\n",
       "    }\n",
       "\n",
       "    .dataframe thead th {\n",
       "        text-align: right;\n",
       "    }\n",
       "</style>\n",
       "<table border=\"1\" class=\"dataframe\">\n",
       "  <thead>\n",
       "    <tr style=\"text-align: right;\">\n",
       "      <th></th>\n",
       "      <th>adsh</th>\n",
       "      <th>cik</th>\n",
       "      <th>name</th>\n",
       "      <th>sic</th>\n",
       "      <th>countryba</th>\n",
       "      <th>stprba</th>\n",
       "      <th>cityba</th>\n",
       "      <th>zipba</th>\n",
       "      <th>bas1</th>\n",
       "      <th>bas2</th>\n",
       "      <th>...</th>\n",
       "      <th>period</th>\n",
       "      <th>fy</th>\n",
       "      <th>fp</th>\n",
       "      <th>filed</th>\n",
       "      <th>accepted</th>\n",
       "      <th>prevrpt</th>\n",
       "      <th>detail</th>\n",
       "      <th>instance</th>\n",
       "      <th>nciks</th>\n",
       "      <th>aciks</th>\n",
       "    </tr>\n",
       "  </thead>\n",
       "  <tbody>\n",
       "    <tr>\n",
       "      <th>0</th>\n",
       "      <td>0000004457-23-000026</td>\n",
       "      <td>4457</td>\n",
       "      <td>U-HAUL HOLDING CO /NV/</td>\n",
       "      <td>7510.0</td>\n",
       "      <td>US</td>\n",
       "      <td>NV</td>\n",
       "      <td>RENO</td>\n",
       "      <td>89511</td>\n",
       "      <td>5555 KIETZKE LANE STE 100</td>\n",
       "      <td>NaN</td>\n",
       "      <td>...</td>\n",
       "      <td>20230331.0</td>\n",
       "      <td>NaN</td>\n",
       "      <td>NaN</td>\n",
       "      <td>20230329</td>\n",
       "      <td>2023-03-29 16:05:00.0</td>\n",
       "      <td>0</td>\n",
       "      <td>0</td>\n",
       "      <td>uhal-20230323_htm.xml</td>\n",
       "      <td>1</td>\n",
       "      <td>NaN</td>\n",
       "    </tr>\n",
       "  </tbody>\n",
       "</table>\n",
       "<p>1 rows × 36 columns</p>\n",
       "</div>"
      ],
      "text/plain": [
       "                   adsh   cik                    name     sic countryba  \\\n",
       "0  0000004457-23-000026  4457  U-HAUL HOLDING CO /NV/  7510.0        US   \n",
       "\n",
       "  stprba cityba  zipba                       bas1 bas2  ...      period  fy  \\\n",
       "0     NV   RENO  89511  5555 KIETZKE LANE STE 100  NaN  ...  20230331.0 NaN   \n",
       "\n",
       "    fp     filed               accepted prevrpt detail               instance  \\\n",
       "0  NaN  20230329  2023-03-29 16:05:00.0       0      0  uhal-20230323_htm.xml   \n",
       "\n",
       "  nciks  aciks  \n",
       "0     1    NaN  \n",
       "\n",
       "[1 rows x 36 columns]"
      ]
     },
     "execution_count": 23,
     "metadata": {},
     "output_type": "execute_result"
    }
   ],
   "source": [
    "tmp = \"http://www.sec.gov/Archives/edgar/data/4457/000000445723000026/uhal-20230323_htm.xml\"\n",
    "sub_df[sub_df.adsh == \"0000004457-23-000026\"]"
   ]
  },
  {
   "cell_type": "code",
   "execution_count": 27,
   "metadata": {},
   "outputs": [
    {
     "data": {
      "text/plain": [
       "inpth    0\n",
       "rfile    H\n",
       "Name: 0, dtype: object"
      ]
     },
     "execution_count": 27,
     "metadata": {},
     "output_type": "execute_result"
    }
   ],
   "source": [
    "pre_df.iloc[0][[\"inpth\", \"rfile\"]]"
   ]
  },
  {
   "cell_type": "code",
   "execution_count": 28,
   "metadata": {},
   "outputs": [
    {
     "data": {
      "text/plain": [
       "tag                     AccountingStandardsUpdate201613Member\n",
       "version                                          us-gaap/2021\n",
       "custom                                                      0\n",
       "abstract                                                    1\n",
       "datatype                                               member\n",
       "iord                                                      NaN\n",
       "crdr                                                      NaN\n",
       "tlabel           Accounting Standards Update 2016-13 [Member]\n",
       "doc         Accounting Standards Update 2016-13 Financial ...\n",
       "Name: 0, dtype: object"
      ]
     },
     "execution_count": 28,
     "metadata": {},
     "output_type": "execute_result"
    }
   ],
   "source": [
    "tag_df.iloc[0]"
   ]
  },
  {
   "cell_type": "code",
   "execution_count": 31,
   "metadata": {},
   "outputs": [
    {
     "data": {
      "text/plain": [
       "form8-k_htm.xml             1183\n",
       "form10-k_htm.xml             253\n",
       "form10-q_htm.xml             111\n",
       "form8k_htm.xml               106\n",
       "form8-ka_htm.xml              54\n",
       "                            ... \n",
       "uone-20230308x8k_htm.xml       1\n",
       "adap-20230310x8k_htm.xml       1\n",
       "agx-20230307x8k_htm.xml        1\n",
       "dlr-20230306x8k_htm.xml        1\n",
       "rivn-20230103_htm.xml          1\n",
       "Name: instance, Length: 22888, dtype: int64"
      ]
     },
     "execution_count": 31,
     "metadata": {},
     "output_type": "execute_result"
    }
   ],
   "source": [
    "sub_df.instance.value_counts()"
   ]
  },
  {
   "attachments": {},
   "cell_type": "markdown",
   "metadata": {},
   "source": [
    "Need to create document url correctly. Example - \"https://www.sec.gov/Archives/edgar/data/4457/000000445723000026/uhal-20230323.htm\" - for the `instance` column, you need to split on `_` and then just do `.htm`"
   ]
  },
  {
   "cell_type": "code",
   "execution_count": null,
   "metadata": {},
   "outputs": [],
   "source": []
  }
 ],
 "metadata": {
  "kernelspec": {
   "display_name": "py-310",
   "language": "python",
   "name": "python3"
  },
  "language_info": {
   "codemirror_mode": {
    "name": "ipython",
    "version": 3
   },
   "file_extension": ".py",
   "mimetype": "text/x-python",
   "name": "python",
   "nbconvert_exporter": "python",
   "pygments_lexer": "ipython3",
   "version": "3.10.9"
  },
  "orig_nbformat": 4
 },
 "nbformat": 4,
 "nbformat_minor": 2
}
