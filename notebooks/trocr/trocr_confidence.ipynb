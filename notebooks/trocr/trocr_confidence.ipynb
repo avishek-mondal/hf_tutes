{
 "cells": [
  {
   "cell_type": "code",
   "execution_count": 1,
   "metadata": {},
   "outputs": [],
   "source": [
    "%load_ext autoreload\n",
    "%autoreload 2"
   ]
  },
  {
   "attachments": {},
   "cell_type": "markdown",
   "metadata": {},
   "source": [
    "How would you get confidence from TrOCR values? It is fairly simple"
   ]
  },
  {
   "cell_type": "code",
   "execution_count": 21,
   "metadata": {},
   "outputs": [
    {
     "name": "stderr",
     "output_type": "stream",
     "text": [
      "Could not find image processor class in the image processor config or the model config. Loading based on pattern matching with the model's feature extractor configuration.\n",
      "Some weights of VisionEncoderDecoderModel were not initialized from the model checkpoint at microsoft/trocr-base-printed and are newly initialized: ['encoder.pooler.dense.weight', 'encoder.pooler.dense.bias']\n",
      "You should probably TRAIN this model on a down-stream task to be able to use it for predictions and inference.\n"
     ]
    }
   ],
   "source": [
    "from transformers import TrOCRProcessor\n",
    "from transformers import VisionEncoderDecoderModel\n",
    "\n",
    "\n",
    "def get_processor_and_model(model_name):\n",
    "    return TrOCRProcessor.from_pretrained(\n",
    "        model_name\n",
    "    ), VisionEncoderDecoderModel.from_pretrained(model_name)\n",
    "\n",
    "\n",
    "model_name = \"microsoft/trocr-base-printed\"\n",
    "processor, model = get_processor_and_model(model_name)\n"
   ]
  },
  {
   "cell_type": "code",
   "execution_count": 11,
   "metadata": {},
   "outputs": [
    {
     "data": {
      "image/png": "[encoded data removed]",
      "text/plain": [
       "<PIL.Image.Image image mode=RGB size=140x40>"
      ]
     },
     "metadata": {},
     "output_type": "display_data"
    }
   ],
   "source": [
    "from PIL import Image\n",
    "\n",
    "img_path = \"res/multipage.tiff\"\n",
    "pil_img = Image.open(img_path)\n",
    "pil_img = pil_img.crop((10, 10, 150, 50))\n",
    "pil_img = pil_img.convert(\"RGB\")\n",
    "display(pil_img)\n"
   ]
  },
  {
   "cell_type": "code",
   "execution_count": 22,
   "metadata": {},
   "outputs": [
    {
     "name": "stderr",
     "output_type": "stream",
     "text": [
      "/opt/homebrew/Caskroom/mambaforge/base/envs/py-310/lib/python3.10/site-packages/transformers/generation/utils.py:1273: UserWarning: Neither `max_length` nor `max_new_tokens` has been set, `max_length` will default to 20 (`generation_config.max_length`). Controlling `max_length` via the config is deprecated and `max_length` will be removed from the config in v5 of Transformers -- we recommend using `max_new_tokens` to control the maximum length of the generation.\n",
      "  warnings.warn(\n"
     ]
    },
    {
     "name": "stdout",
     "output_type": "stream",
     "text": [
      "generated text: 'SUGGESTION:'\n"
     ]
    }
   ],
   "source": [
    "def get_model_output(\n",
    "    pil_img: Image, processor: TrOCRProcessor, model: VisionEncoderDecoderModel\n",
    "):\n",
    "    pixel_values = processor(pil_img, return_tensors=\"pt\").pixel_values\n",
    "    return model.generate(\n",
    "        pixel_values, return_dict_in_generate=True, output_scores=True\n",
    "    )\n",
    "\n",
    "model_output = get_model_output(pil_img, processor, model)\n",
    "generated_ids = model_output.sequences\n",
    "generated_text = processor.batch_decode(generated_ids, skip_special_tokens=True)[0]\n",
    "print(f\"generated text: '{generated_text}'\")\n"
   ]
  },
  {
   "attachments": {},
   "cell_type": "markdown",
   "metadata": {},
   "source": [
    "Take a look at what the generated_ids are."
   ]
  },
  {
   "cell_type": "code",
   "execution_count": 16,
   "metadata": {},
   "outputs": [
    {
     "name": "stdout",
     "output_type": "stream",
     "text": [
      "tensor([[    2,   104, 13644,   534,  4923,  7744,    35,     2]])\n",
      "torch.Size([1, 8])\n"
     ]
    }
   ],
   "source": [
    "print(generated_ids)\n",
    "print(generated_ids.shape)\n"
   ]
  },
  {
   "attachments": {},
   "cell_type": "markdown",
   "metadata": {},
   "source": [
    "The values in the generated_ids are the indices of the vocabulary that have the \"highest\" score after the softmax layer. To see the output of the model before the final softmax layer, we can look at the scores from the model_output"
   ]
  },
  {
   "cell_type": "code",
   "execution_count": 19,
   "metadata": {},
   "outputs": [
    {
     "name": "stdout",
     "output_type": "stream",
     "text": [
      "<class 'tuple'> 7\n",
      "tensor([[-6.3204, -4.6038,  5.5736,  ..., -7.3016, -7.9567, -5.3557]]) torch.Size([1, 50265])\n",
      "[  104 13644   534  4923  7744    35     2]\n"
     ]
    }
   ],
   "source": [
    "import numpy as np\n",
    "scores = model_output.scores\n",
    "print(type(scores), len(scores))\n",
    "print(scores[0], scores[0].shape)\n",
    "print(np.array([score.argmax() for score in scores]))"
   ]
  },
  {
   "attachments": {},
   "cell_type": "markdown",
   "metadata": {},
   "source": [
    "Here, `50_265` is the vocabulary size being used. The generated ids are just the argmaxes. \n",
    "\n",
    "To get some measure of how confident the model is of its prediction, we can put these `scores` through the softmax."
   ]
  },
  {
   "cell_type": "code",
   "execution_count": 23,
   "metadata": {},
   "outputs": [
    {
     "data": {
      "text/plain": [
       "0.98754895"
      ]
     },
     "execution_count": 23,
     "metadata": {},
     "output_type": "execute_result"
    }
   ],
   "source": [
    "import typing as ty\n",
    "import torch\n",
    "\n",
    "def get_confidence(scores: ty.Tuple[torch.Tensor]) -> float:\n",
    "    return np.array([score.softmax(dim=-1).max() for score in scores]).mean()\n",
    "\n",
    "get_confidence(scores)"
   ]
  },
  {
   "attachments": {},
   "cell_type": "markdown",
   "metadata": {},
   "source": [
    "Now let's see what happens when we use the handwritten model"
   ]
  },
  {
   "cell_type": "code",
   "execution_count": 24,
   "metadata": {},
   "outputs": [
    {
     "name": "stderr",
     "output_type": "stream",
     "text": [
      "Could not find image processor class in the image processor config or the model config. Loading based on pattern matching with the model's feature extractor configuration.\n",
      "Some weights of VisionEncoderDecoderModel were not initialized from the model checkpoint at microsoft/trocr-base-handwritten and are newly initialized: ['encoder.pooler.dense.weight', 'encoder.pooler.dense.bias']\n",
      "You should probably TRAIN this model on a down-stream task to be able to use it for predictions and inference.\n",
      "/opt/homebrew/Caskroom/mambaforge/base/envs/py-310/lib/python3.10/site-packages/transformers/generation/utils.py:1273: UserWarning: Neither `max_length` nor `max_new_tokens` has been set, `max_length` will default to 20 (`generation_config.max_length`). Controlling `max_length` via the config is deprecated and `max_length` will be removed from the config in v5 of Transformers -- we recommend using `max_new_tokens` to control the maximum length of the generation.\n",
      "  warnings.warn(\n"
     ]
    },
    {
     "name": "stdout",
     "output_type": "stream",
     "text": [
      "generated text: 'suggestions.'\n",
      "0.87509257\n"
     ]
    }
   ],
   "source": [
    "model_name = \"microsoft/trocr-base-handwritten\"\n",
    "processor, model = get_processor_and_model(model_name)\n",
    "model_output = get_model_output(pil_img, processor, model)\n",
    "model_output = get_model_output(pil_img, processor, model)\n",
    "generated_ids = model_output.sequences\n",
    "generated_text = processor.batch_decode(generated_ids, skip_special_tokens=True)[0]\n",
    "print(f\"generated text: '{generated_text}'\")\n",
    "print(get_confidence(model_output.scores))"
   ]
  },
  {
   "cell_type": "code",
   "execution_count": null,
   "metadata": {},
   "outputs": [],
   "source": []
  }
 ],
 "metadata": {
  "kernelspec": {
   "display_name": "py-310",
   "language": "python",
   "name": "python3"
  },
  "language_info": {
   "codemirror_mode": {
    "name": "ipython",
    "version": 3
   },
   "file_extension": ".py",
   "mimetype": "text/x-python",
   "name": "python",
   "nbconvert_exporter": "python",
   "pygments_lexer": "ipython3",
   "version": "3.10.9"
  },
  "orig_nbformat": 4
 },
 "nbformat": 4,
 "nbformat_minor": 2
}
